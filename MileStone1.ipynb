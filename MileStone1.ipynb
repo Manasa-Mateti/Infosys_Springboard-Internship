{
 "cells": [
  {
   "cell_type": "markdown",
   "metadata": {
    "id": "-CKzk4P2vNP-"
   },
   "source": [
    "\n",
    "# Milestone 1"
   ]
  },
  {
   "cell_type": "code",
   "execution_count": null,
   "metadata": {
    "colab": {
     "base_uri": "https://localhost:8080/"
    },
    "id": "hN36f069uugM",
    "outputId": "2e71659c-c387-44f4-81b6-6644042bcf05"
   },
   "outputs": [
    {
     "name": "stdout",
     "output_type": "stream",
     "text": [
      "✅ Libraries installed.\n",
      "✅ Libraries imported successfully.\n"
     ]
    }
   ],
   "source": [
    "#@title 0.1: Install and Import Libraries\n",
    "# Install the required libraries quietly.\n",
    "!pip install transformers sentencepiece --quiet\n",
    "print(\"✅ Libraries installed.\")\n",
    "\n",
    "# Import the necessary classes from the transformers library.\n",
    "from transformers import T5ForConditionalGeneration, T5Tokenizer\n",
    "from transformers import PegasusForConditionalGeneration, PegasusTokenizer\n",
    "# 'textwrap' is a great tool for formatting our output nicely.\n",
    "import textwrap\n",
    "print(\"✅ Libraries imported successfully.\")"
   ]
  },
  {
   "cell_type": "code",
   "execution_count": null,
   "metadata": {
    "colab": {
     "base_uri": "https://localhost:8080/"
    },
    "id": "K2nDX4zZv7Ge",
    "outputId": "07147983-20ec-4bd1-b83f-a1c413254317"
   },
   "outputs": [
    {
     "name": "stdout",
     "output_type": "stream",
     "text": [
      "✅ Libraries installed.\n"
     ]
    }
   ],
   "source": [
    "!pip install transformers sentencepiece sentence-transformers scikit-learn matplotlib pandas --quiet\n",
    "print(\"✅ Libraries installed.\")"
   ]
  },
  {
   "cell_type": "code",
   "execution_count": null,
   "metadata": {
    "id": "ocpl9hRiw1G7"
   },
   "outputs": [],
   "source": []
  },
  {
   "cell_type": "code",
   "execution_count": null,
   "metadata": {
    "colab": {
     "base_uri": "https://localhost:8080/"
    },
    "id": "J5hNxBVkiSX_",
    "outputId": "a27926e5-608c-4998-8958-590941bd2efe"
   },
   "outputs": [
    {
     "name": "stdout",
     "output_type": "stream",
     "text": [
      "✅ Libraries imported.\n"
     ]
    }
   ],
   "source": [
    "import matplotlib.pyplot as plt\n",
    "from collections import Counter\n",
    "import textwrap\n",
    "import re\n",
    "import requests\n",
    "import ssl\n",
    "from transformers import T5ForConditionalGeneration, T5Tokenizer\n",
    "from transformers import BartForConditionalGeneration, BartTokenizer\n",
    "from transformers import PegasusForConditionalGeneration, PegasusTokenizer\n",
    "from sentence_transformers import SentenceTransformer\n",
    "from sklearn.metrics.pairwise import cosine_similarity\n",
    "\n",
    "# Handle SSL for file downloads\n",
    "try:\n",
    "    _create_unverified_https_context = ssl._create_unverified_context\n",
    "except AttributeError:\n",
    "    pass\n",
    "else:\n",
    "    ssl._create_default_https_context = _create_unverified_https_context\n",
    "\n",
    "print(\"✅ Libraries imported.\")"
   ]
  },
  {
   "cell_type": "markdown",
   "metadata": {
    "id": "eXQCSXaavxkN"
   },
   "source": [
    "## Load Summarization models"
   ]
  },
  {
   "cell_type": "code",
   "execution_count": null,
   "metadata": {
    "colab": {
     "base_uri": "https://localhost:8080/",
     "height": 787,
     "referenced_widgets": [
      "31cb844e6ea24acaa116d652b89d99d8",
      "65526acf79ec43a38175f4203ef73afa",
      "e9195c234c884e85885b820e71d86bb2",
      "1c3a5fcaec344fbb8c3a4df917eb70c0",
      "090b3eb86db84c0b943cf3cbb3c8708b",
      "9ba81303d2814ed194833921a752524e",
      "eba7bfb5069e411887cf28696511780e",
      "109b1456ffdd496ea6fa27940c217fee",
      "9b0d46c4711d4ebd8123c51e5aa63147",
      "cc51f88767384bde9f77b4ee323848a8",
      "c12869be2c7b457f9420505394198bae",
      "ca4f94f552224984829beecb59c31669",
      "0dbb18891cee4045b1f6311d2bd77984",
      "bc8973f964f34f98bdc9e7f3ff149484",
      "65c7d7de6bb247f888ce3b67c503e415",
      "5d0a3db296f54f15b7194795824c1d6a",
      "9a97035f90a54393876a9a215b282808",
      "ae0ddfc7563e403aa4e8acfdf53bd783",
      "ab869535461b4eed8c8aa6c144b23630",
      "fb9e1655a6c94cd3a4260883197fa29f",
      "8f08bf002f794e6cb182386e6b3f9808",
      "04cd9d781c784fcb8fc471a1e2b3123f",
      "dd1fda1fbf48496897d43ae3790699bd",
      "57bf24e0ecc1456cbd49deb939970f88",
      "23636d506c474fefadb000318c139dcd",
      "4edc926c7df944dab3f338e13b22734d",
      "7e2ca7bbbfbb4ca6b517e93dad9bdf14",
      "ce3fb921875c49ba982853fe7db1e4c3",
      "a8837bec8bfc493b9885987895cb87a9",
      "a99de7c61e82443eaa0348bca5e6ca8d",
      "790d38590fa5485398a8ef7dfdb99779",
      "2e8b552520474e408054eb9c73121bd8",
      "4044841fe0fe4d719c82fd9ca94fe247",
      "8f7cfbbe626c44bb8934bdfdb93b125d",
      "0bfed38766c343fbb16580f0f1d64dd7",
      "cb72a6d41fea40ea88e4a8862be32314",
      "4da665b999644ea9bed8551b41b43b34",
      "0fa74f844e9a4117bc1756dc1b9d6e0d",
      "2139dfe6d16d4ac5a58bdce6629a763b",
      "39ae56c680ee4fc181c25b38bbe22a1c",
      "dcd5c5a511724c2d8ec0c60c48953f6a",
      "249c055018a1412a964f4bedcfe680d3",
      "37808ba4fc874e97aaa459de1798070e",
      "8fb7838ae79149e89bef7e2659efd418",
      "5f3453bf23234a6990edc4ef9501209b",
      "9aebe2e9c8cc43a3af67fb4c0d0f27b4",
      "5688e57238304cc2991275b9ba753280",
      "5f2d6045a21c46b2bce666e8a2d51543",
      "2e4970fa340549549be0de5da1ab8c04",
      "2898b23206bc4cff95572fce414adf2b",
      "2bb6b7ac12cc480e94b8b64343343281",
      "7cd1894db8da4c7596c7db71301c8084",
      "bd6d7c7ccee44f54b80404dccd4e172b",
      "7b0d304d654d42d7b3387cf2b0b4cfd4",
      "508ae543b4f5421e807d7f42afa55dc4",
      "d30dee3cb4cd4b8baa516cf224360e75",
      "cebbf7b0eec9461598438ffe5736271f",
      "89e8f202ca0d4f4c8289069cb68f7b60",
      "8b2fa82de8b5495d891280bf1a97fb11",
      "3206716de0aa4f5b9f9b6f51bf80458f",
      "045debe1449b4e1fbf79df8cb316607a",
      "42e1561c233a42d29b96797f3c615f30",
      "223aed4376324e6ea138a9abdafc7bd3",
      "abac9ca032f24ec39ae90a685117c55a",
      "a47a3ee184b84447a05a5af0ee72be34",
      "3bf1aa25063b4c129683fced1c7b731c",
      "679939efca664270b4d144e2aa0e440e",
      "103666c1430e49f1a664330be8a12da8",
      "fa3f8b5b0f3e4ebab9457f27e96761d1",
      "e0f5631e082d45c6b17491886d4e1d98",
      "3d6ea551a1c645de94ac40aa861a9592",
      "398d95621de44685928e55dfd0623300",
      "f1eb78044819491194bc228fdc07dd60",
      "b21434b52d2c4634a07cac4637dbd40d",
      "fed84967913545f5a46109689e5be274",
      "2bc7b80aad634de6a8f406d3ec30e209",
      "0b5b56bbd0ad41a898703f046fa757fa",
      "df2ac1ae2a2e4ad394a2bbf76f43684d",
      "de872e86658f424e8db7f7a9f320cf6b",
      "11679da4a5fc4b4eb91fb974658168d3",
      "016fa8b76ea7490796fa234aa5252033",
      "6dd74dd8dfaa452e811a060c1e9de77a",
      "f5d131681f4648c2b34f6fb989f67f2d",
      "e1c4393a91cc491e98df61ada95c1438",
      "abd3cb81c3f94eecbe8e1c56cad33310",
      "2ccb971a38ba496cb1060eb8b73e8b71",
      "d15ef7e843f34f4db9094d8018597c27",
      "c7448d0b3b4e4a0097f50007f7f4c4fa",
      "9361598a26a94f5eb751a9c260f65b85",
      "bc6efd4a39154517bf319e689578dbb6",
      "a1d7d0523d6646b0b3effcf48d2cec4d",
      "9e58cff8b4ac4230a8834a6873e2bad8",
      "2725f8e6a0f64e668712202d843fe3f8",
      "f9a0c345272646a1bc120a8243e0ee63",
      "d8f0a30e7e3c4cf190e60d4a2fdb9afc",
      "2b948f17158040a89cbd6dbfe82931ab",
      "793b79de923146e0bde067f06e8330bc",
      "09db29d068b54bbb94e67a738bb58a6a",
      "b1f62323bd084b0488fd076dcdf92304",
      "d572a30342a847c09cf02111c7a49d80",
      "a93cc2a719ac4abfa8b82425068bf4ac",
      "4d0f09f054014d88835aeac7feb56bd0",
      "9ac20ee5eb904f8298ac6b607a453450",
      "7ed687fd7e87462db1c46b37d81cc075",
      "7b9d7662bf0f4e4384b9c76b92f1eb96",
      "98526641a6924351ac5fdf0db28e89bd",
      "f7d2ef0dd3904738b3c5c1c7071473aa",
      "d9149fa066b14fb9b8442579c0d00292",
      "0da55c9b586d4fe9a32c40b2ab501c12",
      "91de45ec98ea4ee3b3d9b06605e12573",
      "ce60bfe443b049edad538f85b49632ea",
      "70d26a3e55704a9eb387b59fa84b0f1e",
      "9805622a8b544de39fa839c1df1a5430",
      "71a923a3e7e04761b9857e9ece92087b",
      "5d8de3e1aa784f2ab74a9cdbb45224e9",
      "be649a0e1bea4a4994626198c5dd7124",
      "0683babcad3e450985a7ec9dcc1a16e6",
      "099226fe1d20421c9c344c68f58ca4e0",
      "bd1628d20ac642eb96dc6cfd8c2cecd2",
      "fcabd4544fcf44b3809df6f92473a5ae",
      "a28aff3d9022448c9382d573e1ab6e3f",
      "fcc19355999e4a73a72cc8fdcaa409cb",
      "d8a980e4a0204371a05d104e4561c521",
      "051f88a4cda64e939f7e905c73491787",
      "8590712b7c734730ae04727c1764727f",
      "487fbe6d57a441deb6282bffdeb0703a",
      "fb389edd112b41bc94433e20081eaba3",
      "5340fb22dd2d4198ba625afd5fb89b0d",
      "14122a79eb1149278276daedd1573510",
      "1517aa00c5ba4133a48264e92baa4dbf",
      "dd42a807f9aa41a9966ba62a9ffc23a8",
      "32eb831cb73b4d519e71b16ac7a3e4dc",
      "cecba80cc87c4a21b9fb4225f31e40c9",
      "aa6edcb2454441d3afaa93c37fee2ef6",
      "702f15dc55fe40588aac750c262ac93b",
      "9a9a8deb403c453888b52d97e367c2c5",
      "4ac849a7ad7246e78bfd03e4925ae672",
      "150ceb22d56247e48ee1af6c24931438",
      "e263bdc3b18647e6ab45371a360d2ec8",
      "7078564d21264559b6ff870d710c1d99",
      "55c30c12d5c140aeae13f3cb1ce2698e",
      "8972aef2c16f4cea95602254060f37d7",
      "7de704c2e53c4c4d9672b6fa3277eabc",
      "28838daca55e40fb928794dec19632a3",
      "462bc02cfa9e4f758f028dcb8d6350df",
      "137ca93acd0d43f3b0dba4f1912061ca",
      "3a661cd69c9b45f39e92f0e621fd2ca9",
      "4b6578546fbf41daa6203d9da113980f",
      "f2903b99fcd346928359a5883a373b08",
      "048f3d0c27e344e4b55c6e13dfa0baf1",
      "6211ad0de5f142edb468590818212326",
      "dc981037c9b14601bd522978167a72e6",
      "f38f6424520e4aef97d4374bf23afdf2",
      "03dfb33fc43c4ffc9fdc1ed9d1a1d6ce",
      "58fbb8cd83f744e4803352f56cc43525",
      "6ad54103beae47598ceb532ccbc5d9d4",
      "c6b56962f07743388768dee4e629c53b",
      "448512178f8842ccbf8106cdd0dd3eb0",
      "c84badf1afa242b78c8b46391167c88d",
      "894cb0be116544019327d8b323c66c40",
      "67df94452c2d4aeebb82faf99dbc36bb",
      "dd91983412ab43cd9563cdc5a8dceb2c",
      "a9ffaa67b6a241289b33f9c5b9c76f2e",
      "93d9df4eb03144b6b9132c14c966cc1d",
      "3f16af36463a4ca9a9338b860c3f5c42",
      "ec8a2ff6087c4aa185b4e078869ad62e",
      "63d413d336c64db1a0930da1734db245",
      "3642df35f52f4bef956602b4c76b8aaf",
      "d510055343a44c9d95fe72aabe3b3f2a",
      "71df467606a440c7b9b763cb4a95836b",
      "2ec355ddbe014919bc07e0ff52af45e7",
      "63c3842941c2415196355942213efefa",
      "ada74cce86aa4216af84430144f93408",
      "8db78e84721f4b62af1dcbb4290b670a",
      "c054c5f3fcec4a88aae1feb3c57007e9",
      "ddb0fa8768164b8fbcaaf6dfe653674f",
      "606ec318671842bf8be416f46e5986a6",
      "536fbd250d52479f8d69112004caa066",
      "75ddbe98465d4cf784c2525f41fe786d",
      "4802296ecb504070a2914abaa30ed898",
      "de2dc70be35340de93f4477f8fa25722",
      "a4c1e58d983148d39fa34b66145a3d82",
      "71bed7c52f3b4743ab7d0398ee83412b",
      "5dd30dae66c844b69c57bf7aff5aa70b",
      "668e9a04efdb477f9eab064a20d0bf4a",
      "b517f82de4b04740afecb468090d3e8f",
      "f0c0c4307c50483385ce5bc90eda3029",
      "b644df9514044063be78b8bf9846e69b",
      "4050b0c46f83418593a15e9cd1c93ee9",
      "7cf026d0ddb44b6091d2ba2b7ce35b91",
      "356bdc52bc454e8eaff3182aeb50af28",
      "9bef26787bd047cdaf469ab8879b8c84",
      "bb6cdd7b8b544d229c96a1dc8007633a",
      "2f51cb2e2ae14ffd89ab0da2ff8185e9",
      "6bcdc61800634e00950373b83214ccb3",
      "a269dbf9a5cc47be8d4cade7fdd5a722",
      "601a7ec020bd4a489bc3b785287b509b",
      "bc720d40993f4d9b9694cb4d02680371"
     ]
    },
    "id": "buI7EoqrivUG",
    "outputId": "11865816-b06b-4c90-ff48-a8d895bec575"
   },
   "outputs": [
    {
     "name": "stderr",
     "output_type": "stream",
     "text": [
      "/usr/local/lib/python3.12/dist-packages/huggingface_hub/utils/_auth.py:94: UserWarning: \n",
      "The secret `HF_TOKEN` does not exist in your Colab secrets.\n",
      "To authenticate with the Hugging Face Hub, create a token in your settings tab (https://huggingface.co/settings/tokens), set it as secret in your Google Colab and restart your session.\n",
      "You will be able to reuse this secret in all of your notebooks.\n",
      "Please note that authentication is recommended but still optional to access public models or datasets.\n",
      "  warnings.warn(\n"
     ]
    },
    {
     "data": {
      "application/vnd.jupyter.widget-view+json": {
       "model_id": "31cb844e6ea24acaa116d652b89d99d8",
       "version_major": 2,
       "version_minor": 0
      },
      "text/plain": [
       "spiece.model:   0%|          | 0.00/792k [00:00<?, ?B/s]"
      ]
     },
     "metadata": {},
     "output_type": "display_data"
    },
    {
     "data": {
      "application/vnd.jupyter.widget-view+json": {
       "model_id": "ca4f94f552224984829beecb59c31669",
       "version_major": 2,
       "version_minor": 0
      },
      "text/plain": [
       "tokenizer.json:   0%|          | 0.00/1.39M [00:00<?, ?B/s]"
      ]
     },
     "metadata": {},
     "output_type": "display_data"
    },
    {
     "data": {
      "application/vnd.jupyter.widget-view+json": {
       "model_id": "dd1fda1fbf48496897d43ae3790699bd",
       "version_major": 2,
       "version_minor": 0
      },
      "text/plain": [
       "config.json:   0%|          | 0.00/1.21k [00:00<?, ?B/s]"
      ]
     },
     "metadata": {},
     "output_type": "display_data"
    },
    {
     "name": "stderr",
     "output_type": "stream",
     "text": [
      "You are using the default legacy behaviour of the <class 'transformers.models.t5.tokenization_t5.T5Tokenizer'>. This is expected, and simply means that the `legacy` (previous) behavior will be used so nothing changes for you. If you want to use the new behaviour, set `legacy=False`. This should only be set if you understand what it means, and thoroughly read the reason why this was added as explained in https://github.com/huggingface/transformers/pull/24565\n"
     ]
    },
    {
     "data": {
      "application/vnd.jupyter.widget-view+json": {
       "model_id": "8f7cfbbe626c44bb8934bdfdb93b125d",
       "version_major": 2,
       "version_minor": 0
      },
      "text/plain": [
       "model.safetensors:   0%|          | 0.00/892M [00:00<?, ?B/s]"
      ]
     },
     "metadata": {},
     "output_type": "display_data"
    },
    {
     "data": {
      "application/vnd.jupyter.widget-view+json": {
       "model_id": "5f3453bf23234a6990edc4ef9501209b",
       "version_major": 2,
       "version_minor": 0
      },
      "text/plain": [
       "generation_config.json:   0%|          | 0.00/147 [00:00<?, ?B/s]"
      ]
     },
     "metadata": {},
     "output_type": "display_data"
    },
    {
     "data": {
      "application/vnd.jupyter.widget-view+json": {
       "model_id": "d30dee3cb4cd4b8baa516cf224360e75",
       "version_major": 2,
       "version_minor": 0
      },
      "text/plain": [
       "vocab.json: 0.00B [00:00, ?B/s]"
      ]
     },
     "metadata": {},
     "output_type": "display_data"
    },
    {
     "data": {
      "application/vnd.jupyter.widget-view+json": {
       "model_id": "679939efca664270b4d144e2aa0e440e",
       "version_major": 2,
       "version_minor": 0
      },
      "text/plain": [
       "merges.txt: 0.00B [00:00, ?B/s]"
      ]
     },
     "metadata": {},
     "output_type": "display_data"
    },
    {
     "data": {
      "application/vnd.jupyter.widget-view+json": {
       "model_id": "df2ac1ae2a2e4ad394a2bbf76f43684d",
       "version_major": 2,
       "version_minor": 0
      },
      "text/plain": [
       "tokenizer.json: 0.00B [00:00, ?B/s]"
      ]
     },
     "metadata": {},
     "output_type": "display_data"
    },
    {
     "data": {
      "application/vnd.jupyter.widget-view+json": {
       "model_id": "9361598a26a94f5eb751a9c260f65b85",
       "version_major": 2,
       "version_minor": 0
      },
      "text/plain": [
       "config.json: 0.00B [00:00, ?B/s]"
      ]
     },
     "metadata": {},
     "output_type": "display_data"
    },
    {
     "data": {
      "application/vnd.jupyter.widget-view+json": {
       "model_id": "d572a30342a847c09cf02111c7a49d80",
       "version_major": 2,
       "version_minor": 0
      },
      "text/plain": [
       "model.safetensors:   0%|          | 0.00/558M [00:00<?, ?B/s]"
      ]
     },
     "metadata": {},
     "output_type": "display_data"
    },
    {
     "data": {
      "application/vnd.jupyter.widget-view+json": {
       "model_id": "ce60bfe443b049edad538f85b49632ea",
       "version_major": 2,
       "version_minor": 0
      },
      "text/plain": [
       "tokenizer_config.json:   0%|          | 0.00/87.0 [00:00<?, ?B/s]"
      ]
     },
     "metadata": {},
     "output_type": "display_data"
    },
    {
     "data": {
      "application/vnd.jupyter.widget-view+json": {
       "model_id": "fcc19355999e4a73a72cc8fdcaa409cb",
       "version_major": 2,
       "version_minor": 0
      },
      "text/plain": [
       "spiece.model:   0%|          | 0.00/1.91M [00:00<?, ?B/s]"
      ]
     },
     "metadata": {},
     "output_type": "display_data"
    },
    {
     "data": {
      "application/vnd.jupyter.widget-view+json": {
       "model_id": "cecba80cc87c4a21b9fb4225f31e40c9",
       "version_major": 2,
       "version_minor": 0
      },
      "text/plain": [
       "special_tokens_map.json:   0%|          | 0.00/65.0 [00:00<?, ?B/s]"
      ]
     },
     "metadata": {},
     "output_type": "display_data"
    },
    {
     "data": {
      "application/vnd.jupyter.widget-view+json": {
       "model_id": "28838daca55e40fb928794dec19632a3",
       "version_major": 2,
       "version_minor": 0
      },
      "text/plain": [
       "tokenizer.json: 0.00B [00:00, ?B/s]"
      ]
     },
     "metadata": {},
     "output_type": "display_data"
    },
    {
     "data": {
      "application/vnd.jupyter.widget-view+json": {
       "model_id": "58fbb8cd83f744e4803352f56cc43525",
       "version_major": 2,
       "version_minor": 0
      },
      "text/plain": [
       "config.json: 0.00B [00:00, ?B/s]"
      ]
     },
     "metadata": {},
     "output_type": "display_data"
    },
    {
     "data": {
      "application/vnd.jupyter.widget-view+json": {
       "model_id": "ec8a2ff6087c4aa185b4e078869ad62e",
       "version_major": 2,
       "version_minor": 0
      },
      "text/plain": [
       "pytorch_model.bin:   0%|          | 0.00/2.28G [00:00<?, ?B/s]"
      ]
     },
     "metadata": {},
     "output_type": "display_data"
    },
    {
     "data": {
      "application/vnd.jupyter.widget-view+json": {
       "model_id": "606ec318671842bf8be416f46e5986a6",
       "version_major": 2,
       "version_minor": 0
      },
      "text/plain": [
       "model.safetensors:   0%|          | 0.00/2.28G [00:00<?, ?B/s]"
      ]
     },
     "metadata": {},
     "output_type": "display_data"
    },
    {
     "name": "stderr",
     "output_type": "stream",
     "text": [
      "Some weights of PegasusForConditionalGeneration were not initialized from the model checkpoint at google/pegasus-xsum and are newly initialized: ['model.decoder.embed_positions.weight', 'model.encoder.embed_positions.weight']\n",
      "You should probably TRAIN this model on a down-stream task to be able to use it for predictions and inference.\n"
     ]
    },
    {
     "data": {
      "application/vnd.jupyter.widget-view+json": {
       "model_id": "b644df9514044063be78b8bf9846e69b",
       "version_major": 2,
       "version_minor": 0
      },
      "text/plain": [
       "generation_config.json:   0%|          | 0.00/259 [00:00<?, ?B/s]"
      ]
     },
     "metadata": {},
     "output_type": "display_data"
    },
    {
     "name": "stdout",
     "output_type": "stream",
     "text": [
      "✅ Summarization models loaded: T5, BART, PEGASUS.\n"
     ]
    }
   ],
   "source": [
    "t5_tokenizer = T5Tokenizer.from_pretrained('t5-base')\n",
    "t5_model = T5ForConditionalGeneration.from_pretrained('t5-base')\n",
    "bart_tokenizer = BartTokenizer.from_pretrained('facebook/bart-base')\n",
    "bart_model = BartForConditionalGeneration.from_pretrained('facebook/bart-base')\n",
    "pegasus_sum_tokenizer = PegasusTokenizer.from_pretrained('google/pegasus-xsum')\n",
    "pegasus_sum_model = PegasusForConditionalGeneration.from_pretrained('google/pegasus-xsum')\n",
    "print(\"✅ Summarization models loaded: T5, BART, PEGASUS.\")"
   ]
  },
  {
   "cell_type": "markdown",
   "metadata": {
    "id": "blmToFz_xa1g"
   },
   "source": [
    "\n",
    "##Load Paraphrasing Models"
   ]
  },
  {
   "cell_type": "code",
   "execution_count": null,
   "metadata": {
    "colab": {
     "base_uri": "https://localhost:8080/",
     "height": 665,
     "referenced_widgets": [
      "5ee5c4d646dd41de97f329a37ff8a2ff",
      "fb024f188e5c42329c1c63d1f2a5db8c",
      "1bbe4582313542229058f5140cfb90b7",
      "949f143c4d7e4242a712690415afed95",
      "2547e361087f42949d6fe408a1ac143c",
      "90cd81a3b4ca432791af89df1fc19929",
      "0a812695ff504fe5bf5cdb4dcbabb44a",
      "f6c0bc828b28414a935a8d537017d1c9",
      "606f97b48b484ed3b65ce7f0518dd18e",
      "a23f470e9343418189afb8f2a40b9169",
      "3f0390177ac54d859fe98821af23c958",
      "e797e5e9c97f404788c44512909eb82c",
      "793d04e262f24915bb9c7eb8d4eee9bf",
      "3ca1f33a638b461cbd36f7493cde4734",
      "8b018a6c3c714b138e5ad42453b22934",
      "249d0860068c4cb697d957c5d83509a1",
      "0460fbc5e96e486e8e1af64c5b984d67",
      "f6fc8389396645428eb17e0c2fead784",
      "552b61a72e264f918c6e9723b018d249",
      "f02b16d6369f410db2f79b01bd75162d",
      "7fb5c643d042401fa57b9dfb2a12b6af",
      "13cd1726a2d7420c9557138ff9985620",
      "dccf17e3b65f4a6fae62eacf50e37409",
      "ccc3f7fadc924d8c929ef8dfe23ce727",
      "a66dc5f605c14f5999c3e32fe280821f",
      "5e6c3aaf866c4d0297ad9c038ca6b763",
      "5041a08f3752464bbe3607789a026799",
      "0b17ccb1978343989be304508e46937f",
      "f30838f966d347218ec9b1a675945023",
      "28f96bd6737e48ca871bc6b28a11a698",
      "b9499debb75a44959ab10ddbf5af4146",
      "0430165876f94d7ea5a5814ad4989ce5",
      "f2b9f9689402491ea3ef90412f1423aa",
      "166e426578a840ed9d35e3b372f8d83c",
      "cc0b5d900b7f429a979f2bd8c61cba67",
      "d589f768bd4a4634aefdd4c40c44fa7a",
      "1bef659464e446c7a796ba9df477a40c",
      "61edfdc4d36c45299e673058dfb3a008",
      "961db88154a44644968c401497277b0b",
      "eb3b99049dd240cb9064e9a2539ccc01",
      "c7a6cace48064fb69e1bdbaef7f8f22e",
      "8dc9b87cfb15487cb2c8e806f491f129",
      "b73cce75dde74ec8a5e23f7778c3479a",
      "245a596dafb346f09112807b855057b5",
      "75f8a3e4c3e640438936a31acc1466c4",
      "e8d06c2fb0a44ebba9bd6b9b17902f5f",
      "9f27a5c6c0cc4f63973a0d477af925cb",
      "3cd13ade44bc47a39ca1eb5a4bf00994",
      "7e701b57bd534f6b9188589c9d0bab23",
      "6b56c7508827468cacd2d95e433aae90",
      "ba611ee3ad274101bf20692e9bde6598",
      "5a0d1f346e5947c096418a634c0e8d98",
      "f5ee1212560e4f9e99adc49fc765d96c",
      "580bc303e49a45d1be3ba94c028a0412",
      "dc89322c49114c778aa6673f8322dcda",
      "1841a774055a480f9e30dd401a29bf56",
      "0ef9e5375c864d13a934e77ff9089b5c",
      "2671670271f64ea2959148e4626fdd57",
      "b8815780d387435488d3d54b91caf125",
      "66a0b55573b04e4d8124e10a9eb1c67c",
      "f5b418fdb602408ea4c6d6d20c25ed43",
      "d3deae87f93f45408783ee1e7fa6b574",
      "f6ce2343c25847538c1e51ea6f1aaeae",
      "8f4359cfe47e4d8eb08442a0ca80e9eb",
      "9329d69538f640b890bcc35a31d3269a",
      "057c5e441d1948258229913bb12ce1a5",
      "ea4ef7bcc0b844bfbcc620e43e31acab",
      "0a800281352047f7b484bbcedbcdf947",
      "0c151f2b617e448584528c752b09763e",
      "9b5c4a68501e45dfa6626eb7f4c18ed1",
      "0aa874daa97448c3b9a1cad3fc5968c5",
      "b6bbb95809104d7681b7cd524b83dd99",
      "7ea7044894054ddc9ced4fa1702276b8",
      "be3f89cb493441cbbe1e063a9deb1fdd",
      "12858845705747a880acc7a3860dbb15",
      "d0684db0676f48618953111322a2a079",
      "119d48c7baac4a8ba3694c2f0d008c4e",
      "075cfc2a54d64a4b85e6846a72ae0e3f",
      "a3e5df6d427444bc99deca3dae3d8d59",
      "18ae719d3b1f492faec1b8e7f30ef462",
      "d2304163378943b3bfa7855dc750805b",
      "96142767e71648de850d04fafb8585a8",
      "f49a76269619437fa08d1ba17dd52c17",
      "0155c64e558c4c2c8d0446f5c611ff7c",
      "32666983d8e64f359044c295eb8b7404",
      "03b19c06d321448cae934eae111e6000",
      "70539dcd0647432bbb8d30e337e1c170",
      "8e25948fe9a94c1faff24bae58a561ae",
      "744e33b115d24306bb5e1390027b08f9",
      "480912f0591c413fb493ab2676d3752b",
      "8ffad461a99e44e8bd7e4c46cb68f394",
      "acb436fc9e3642c5a0997ba75426f365",
      "9623e4ac0fd74a22b349d4f1dd55814d",
      "d301d2dc6ea040ffb6e060f6f19c521f",
      "661ca4ccc9764ab98ccdc1beda3427cb",
      "38507aab330448bc9d20c84e6cf735bb",
      "91524dacc80f40fbbea6fe0715b1a2fa",
      "73726532d9094f39adf7aee824defc98",
      "8e98682fa5bb4e1ca9ddac92abc57341",
      "ef303099e2f5477fa08d6070f55db154",
      "6b36f4c7863d4d27849e59ba303e4bf0",
      "96b088af6855414da2f27ebab81b67d4",
      "2d6bfff74b6940609c0b9ce39fbf4829",
      "ddf8850b8d5444a9a965101033de8c41",
      "cdbc5a0587614979a645960351e930ae",
      "efd7c9462f6145578dbf2623f784132f",
      "7aadd00c8f7d4f51b6ea00613fc549d5",
      "acfd3f7b0d2a40dba60e249ebe034554",
      "0345117c1b484aea9e2b7bf0b8a6152a",
      "c4b08e640f424420bf6d5d413bc80747",
      "75746aea46484edb96b9b9687127ae3a",
      "138af71a42c845c48f87f2c89feb27e7",
      "a09fc5d3872e4c9db04edddf56a247d2",
      "520bf7ba1e5a46a18684b74e2cb1a419",
      "23eb3e80f8ac4f1ebde171021ce46b5f",
      "48993fd5c3b34cb0a191120addce3901",
      "8b646dee2ee84f4d8d30393db1023443",
      "44d9a9e9c56440fcb5f36212addf11f5",
      "e2cc74d203084fe4ae5a4a52afa8bea0",
      "387977667256481d98fc0ef84448a1bf",
      "61e77f59fbb24ce0b1528ec03badd7c0",
      "f06d0e4f1efa40d78010e4ab85396c8f",
      "78d479fb6b4640b78e2f982279c45275",
      "edd9342d3af243c29b5e30a141735f00",
      "b253275fadfb48b89edd8561be4ac918",
      "cfc9c84cc93a4957a051f4ff8e0ccf22",
      "cc2554a9aed2411884da5163eedb7af1",
      "adf4677fea5645fa94701d46cb729de6",
      "b49a0ebe433049889cec610370a151d5",
      "914d629469ab48b693b0b47cb47c8bac",
      "4522e22250174580b5bfcf4c002e39ed",
      "e456ab604beb482da482b458aea2f28c",
      "1fa9b676f2d447d7bcbfac20cca9880a",
      "f6818ef2e261497eb58208130e0d04dc",
      "3edd78ec6ead4bac9fa3b93a7af1ff38",
      "b6609e743da84f3d9f6b92265a64191f",
      "293ef4053a7b476cb05bcc78415fef8e",
      "9db92b7c0a824288a2e19a37f65dc8f8",
      "b07e5d075f014c94a35d0a45a4d2be43",
      "e93249f9ec114a6a836a812d5258d777",
      "ede7a8d7e55b46b28e65b51790d2c076",
      "82efc4bfe2c34e68bc19e97929da43bb",
      "6021bbeddb52464e927ab3f757fe28fe",
      "f5a089aff03f4886bd17ae4a29bca989",
      "dbd31cf91e7f408ca57af544b0a62558",
      "dacfce70909d47cf8c300c1ed1dd32a5",
      "e1ea4f064bde41fca369844bb03c01d0",
      "de262fc276d548f38c275a55c08967f0",
      "8620f3fadd824b93b2dda5cc6bc26c86",
      "f27271c18efc4862b87301ae792ba208",
      "e0c5ed78d24844368be844ce89ac1ad8",
      "491cdc800af04411820b821a11eec154",
      "c76009b0150243a88fb5cd3178e4e257",
      "c20b0b2784c54085aa5c4a688aa2e3de",
      "daf2cd878b3e4d3cbaf750c724aff9b4",
      "c5c2fcacae1242b5a9229d2efdceec31",
      "d59c0f3991d8421ca732fdcb28b47315",
      "93131fc3037b47d991cb8cebd65576aa",
      "d337a94d064f4546a35589e1453bab41",
      "d38da892589c4748bbcf98d225617281",
      "1461c56248744d43a1fd4c8f9afa621b",
      "73b5d8c05abd43ae82a362e7f54f4041",
      "ea0d9ec1446e414ca3b1fbbad767f4a9",
      "763be6cedaab4d36ba45615d3b6baf25",
      "ccdceb387eef4c57b4e5056c875418bc",
      "f1c19c5afaad4d6a89e48265bdc9168d",
      "91ce8c88a3b04cf5b4e35f52da81598a",
      "c8199c019f9d4c90be474cda0b67d51c",
      "7b36ce496d684ac5a590ab2eb50a06e3",
      "a19dcb4b6ec249738ddb4a2217e72a4e",
      "980071bc5dfb4a76b61b536d3009512d",
      "cee4432a61bd4b7988d26f9dceeb52c6",
      "0cab712bdc21479fb7a0f69e5d12039e",
      "366605f90612400ebcaeca7b9eba19cf",
      "09538c9528eb4536b5ceb420da939fba",
      "97d5f653b60b4fe88f575fcbaa58e26d",
      "1be3555bc7ba43fbb1e47ac675ee5ad8",
      "453bbf222772409ba06647866c6ed517",
      "3e5ce9fbd59b405b8bb72a551ce2da20",
      "7990c105398147dd865396701c2c708d",
      "ab75038568904cd59ae8aa8ab71ca3c0",
      "bab0dbe0a0564b2a836cdbcbe187763f",
      "87f2290d047c4981ad6ee532a2b205cd",
      "a652834e26c1436194cd7fd72944ea1e",
      "90d04edadf5d40bebf13d27783478ed6",
      "89914a069a3e4ef5bf765f8072a7b8e2",
      "abc860a4d5b1435482d53e8fb3b1fa5d",
      "68b24cdf504a498fb542fe1d96b91094",
      "88380389b0e346c195be57a17d7fb7d4",
      "ae150f518a5e4cad8765a08cae53b241",
      "9a617104b023430d815ee30811e67576",
      "2d06ae090a4c4e5b86cfb23533f3983c",
      "13cdc9f519ec420e939ad257d0821e0d",
      "6256a119248f48be90e9cacb2746b93e",
      "bf77144ac800466492872395809fd111",
      "633cbc13d7f449af81291317bfead270",
      "9ff9c199f1364101836c8bc6263674ee",
      "f7f3817e60cd433cbb57c8eac4256b3f"
     ]
    },
    "id": "rFuxST-lxwN_",
    "outputId": "156552b8-e9a9-4203-db26-374776ea404a"
   },
   "outputs": [
    {
     "data": {
      "application/vnd.jupyter.widget-view+json": {
       "model_id": "5ee5c4d646dd41de97f329a37ff8a2ff",
       "version_major": 2,
       "version_minor": 0
      },
      "text/plain": [
       "tokenizer_config.json:   0%|          | 0.00/86.0 [00:00<?, ?B/s]"
      ]
     },
     "metadata": {},
     "output_type": "display_data"
    },
    {
     "data": {
      "application/vnd.jupyter.widget-view+json": {
       "model_id": "e797e5e9c97f404788c44512909eb82c",
       "version_major": 2,
       "version_minor": 0
      },
      "text/plain": [
       "spiece.model:   0%|          | 0.00/1.91M [00:00<?, ?B/s]"
      ]
     },
     "metadata": {},
     "output_type": "display_data"
    },
    {
     "data": {
      "application/vnd.jupyter.widget-view+json": {
       "model_id": "dccf17e3b65f4a6fae62eacf50e37409",
       "version_major": 2,
       "version_minor": 0
      },
      "text/plain": [
       "special_tokens_map.json:   0%|          | 0.00/65.0 [00:00<?, ?B/s]"
      ]
     },
     "metadata": {},
     "output_type": "display_data"
    },
    {
     "data": {
      "application/vnd.jupyter.widget-view+json": {
       "model_id": "166e426578a840ed9d35e3b372f8d83c",
       "version_major": 2,
       "version_minor": 0
      },
      "text/plain": [
       "config.json: 0.00B [00:00, ?B/s]"
      ]
     },
     "metadata": {},
     "output_type": "display_data"
    },
    {
     "data": {
      "application/vnd.jupyter.widget-view+json": {
       "model_id": "75f8a3e4c3e640438936a31acc1466c4",
       "version_major": 2,
       "version_minor": 0
      },
      "text/plain": [
       "pytorch_model.bin:   0%|          | 0.00/2.28G [00:00<?, ?B/s]"
      ]
     },
     "metadata": {},
     "output_type": "display_data"
    },
    {
     "data": {
      "application/vnd.jupyter.widget-view+json": {
       "model_id": "1841a774055a480f9e30dd401a29bf56",
       "version_major": 2,
       "version_minor": 0
      },
      "text/plain": [
       "model.safetensors:   0%|          | 0.00/2.28G [00:00<?, ?B/s]"
      ]
     },
     "metadata": {},
     "output_type": "display_data"
    },
    {
     "name": "stderr",
     "output_type": "stream",
     "text": [
      "Some weights of PegasusForConditionalGeneration were not initialized from the model checkpoint at tuner007/pegasus_paraphrase and are newly initialized: ['model.decoder.embed_positions.weight', 'model.encoder.embed_positions.weight']\n",
      "You should probably TRAIN this model on a down-stream task to be able to use it for predictions and inference.\n"
     ]
    },
    {
     "data": {
      "application/vnd.jupyter.widget-view+json": {
       "model_id": "ea4ef7bcc0b844bfbcc620e43e31acab",
       "version_major": 2,
       "version_minor": 0
      },
      "text/plain": [
       "tokenizer_config.json:   0%|          | 0.00/25.0 [00:00<?, ?B/s]"
      ]
     },
     "metadata": {},
     "output_type": "display_data"
    },
    {
     "data": {
      "application/vnd.jupyter.widget-view+json": {
       "model_id": "075cfc2a54d64a4b85e6846a72ae0e3f",
       "version_major": 2,
       "version_minor": 0
      },
      "text/plain": [
       "spiece.model:   0%|          | 0.00/792k [00:00<?, ?B/s]"
      ]
     },
     "metadata": {},
     "output_type": "display_data"
    },
    {
     "data": {
      "application/vnd.jupyter.widget-view+json": {
       "model_id": "744e33b115d24306bb5e1390027b08f9",
       "version_major": 2,
       "version_minor": 0
      },
      "text/plain": [
       "special_tokens_map.json: 0.00B [00:00, ?B/s]"
      ]
     },
     "metadata": {},
     "output_type": "display_data"
    },
    {
     "data": {
      "application/vnd.jupyter.widget-view+json": {
       "model_id": "ef303099e2f5477fa08d6070f55db154",
       "version_major": 2,
       "version_minor": 0
      },
      "text/plain": [
       "config.json: 0.00B [00:00, ?B/s]"
      ]
     },
     "metadata": {},
     "output_type": "display_data"
    },
    {
     "data": {
      "application/vnd.jupyter.widget-view+json": {
       "model_id": "75746aea46484edb96b9b9687127ae3a",
       "version_major": 2,
       "version_minor": 0
      },
      "text/plain": [
       "model.safetensors:   0%|          | 0.00/892M [00:00<?, ?B/s]"
      ]
     },
     "metadata": {},
     "output_type": "display_data"
    },
    {
     "data": {
      "application/vnd.jupyter.widget-view+json": {
       "model_id": "f06d0e4f1efa40d78010e4ab85396c8f",
       "version_major": 2,
       "version_minor": 0
      },
      "text/plain": [
       "tokenizer_config.json:   0%|          | 0.00/332 [00:00<?, ?B/s]"
      ]
     },
     "metadata": {},
     "output_type": "display_data"
    },
    {
     "data": {
      "application/vnd.jupyter.widget-view+json": {
       "model_id": "1fa9b676f2d447d7bcbfac20cca9880a",
       "version_major": 2,
       "version_minor": 0
      },
      "text/plain": [
       "vocab.json: 0.00B [00:00, ?B/s]"
      ]
     },
     "metadata": {},
     "output_type": "display_data"
    },
    {
     "data": {
      "application/vnd.jupyter.widget-view+json": {
       "model_id": "f5a089aff03f4886bd17ae4a29bca989",
       "version_major": 2,
       "version_minor": 0
      },
      "text/plain": [
       "merges.txt: 0.00B [00:00, ?B/s]"
      ]
     },
     "metadata": {},
     "output_type": "display_data"
    },
    {
     "data": {
      "application/vnd.jupyter.widget-view+json": {
       "model_id": "daf2cd878b3e4d3cbaf750c724aff9b4",
       "version_major": 2,
       "version_minor": 0
      },
      "text/plain": [
       "special_tokens_map.json:   0%|          | 0.00/239 [00:00<?, ?B/s]"
      ]
     },
     "metadata": {},
     "output_type": "display_data"
    },
    {
     "data": {
      "application/vnd.jupyter.widget-view+json": {
       "model_id": "f1c19c5afaad4d6a89e48265bdc9168d",
       "version_major": 2,
       "version_minor": 0
      },
      "text/plain": [
       "tokenizer.json: 0.00B [00:00, ?B/s]"
      ]
     },
     "metadata": {},
     "output_type": "display_data"
    },
    {
     "data": {
      "application/vnd.jupyter.widget-view+json": {
       "model_id": "1be3555bc7ba43fbb1e47ac675ee5ad8",
       "version_major": 2,
       "version_minor": 0
      },
      "text/plain": [
       "config.json: 0.00B [00:00, ?B/s]"
      ]
     },
     "metadata": {},
     "output_type": "display_data"
    },
    {
     "data": {
      "application/vnd.jupyter.widget-view+json": {
       "model_id": "68b24cdf504a498fb542fe1d96b91094",
       "version_major": 2,
       "version_minor": 0
      },
      "text/plain": [
       "model.safetensors:   0%|          | 0.00/1.63G [00:00<?, ?B/s]"
      ]
     },
     "metadata": {},
     "output_type": "display_data"
    },
    {
     "name": "stdout",
     "output_type": "stream",
     "text": [
      "✅ Paraphrasing models loaded: PEGASUS, T5-Paraphrase, BART-Paraphrase.\n"
     ]
    }
   ],
   "source": [
    "pegasus_para_tokenizer = PegasusTokenizer.from_pretrained('tuner007/pegasus_paraphrase')\n",
    "pegasus_para_model = PegasusForConditionalGeneration.from_pretrained('tuner007/pegasus_paraphrase')\n",
    "paraphrase_t5_tokenizer = T5Tokenizer.from_pretrained('Vamsi/T5_Paraphrase_Paws')\n",
    "paraphrase_t5_model = T5ForConditionalGeneration.from_pretrained('Vamsi/T5_Paraphrase_Paws')\n",
    "paraphrase_bart_tokenizer = BartTokenizer.from_pretrained('eugenesiow/bart-paraphrase')\n",
    "paraphrase_bart_model = BartForConditionalGeneration.from_pretrained('eugenesiow/bart-paraphrase')\n",
    "print(\"✅ Paraphrasing models loaded: PEGASUS, T5-Paraphrase, BART-Paraphrase.\")"
   ]
  },
  {
   "cell_type": "markdown",
   "metadata": {
    "id": "jednp6JXx2kX"
   },
   "source": [
    "## Load Similarity Model"
   ]
  },
  {
   "cell_type": "code",
   "execution_count": null,
   "metadata": {
    "colab": {
     "base_uri": "https://localhost:8080/",
     "height": 386,
     "referenced_widgets": [
      "51747093b8b144228ea13532e974cd77",
      "61761a78b8f448398f65571b90aa31bd",
      "06b89551953e402a9047a74c739f61c7",
      "618c74fb233647ad98905cd0243b2146",
      "78c2aa01ca044b2287e733fcf36cba89",
      "6a5a4bce6a504561ab518b2eabca9b57",
      "0f350397509b4b7fb38317051bd40023",
      "395b3600dd2847c78c6abd06cb112bb9",
      "a2f88e5094824a2ab516ba2808eae492",
      "4a5a7f1803ef47dd905f2ba1538ef245",
      "199a1de6285749468d4c5fd70573bedf",
      "84bfabb0ad0348b59f9692242e509cab",
      "32edbab29c3546279ebc8e38ca35bdf4",
      "d2bfb77b163848309066eb43355f9977",
      "dd6c006442cf4a01a90ac543171e5322",
      "9e117aa931ec438e9d657cc200b21938",
      "75cee6c85bb040d08cdc243b4d49baee",
      "605fa785712547d99bb0c1072528a537",
      "5ee7714e7fe94000a16e093cec65d93c",
      "5a40ee7a30e6491a9ea953047e07dba9",
      "65a4c83e12824727a2dcf063acbe5621",
      "02487365f26c4143a96b7dc006a9d0ca",
      "a032731552a34ddcbe968aba93fa7d17",
      "36a87746d24f48a9bc2f29472df00ef4",
      "e665d10647ce486e8844b00b6a7b0a8c",
      "857b5e9fdcf34f8eac22909070813dc0",
      "d7019203448e4104a6ba3366e44d0be0",
      "6a3c2e43a95e4d2996969a2cf2538927",
      "9784b38362404c0d80f75b57f0489222",
      "8d6b2c30f09f42148e843f6d893338de",
      "a8feb68b219040ab9e6a0d4c8cdf52c8",
      "31311b25c66f45188635401a74e27cab",
      "1977da9ada6741aca06118f518732921",
      "26a760f99cf74858bcd49907a61d3cc4",
      "5b74242af06c43768dfe2ef1df7acc94",
      "6f693ed52a8d4e979828e1fae33e324c",
      "0fc3b79c4e4d40e6a5d264bec49e53ab",
      "d42f64e9cf174181a2db5bd1753c36b5",
      "2fe6eaf9aa124fa9aa4ab42130436510",
      "413a2b7f3c48493785e499a844e9fb15",
      "76dd4b220f8643f09d312945bb81fca4",
      "6ae9d1d3f2a440068fdc50e80e6fc56b",
      "9ee0517cb5204f4cad82a54522b130cb",
      "3304dd11718045048c34fa9081e3c43b",
      "1f565ab5befe44199dcefc7b9ed55836",
      "539f15a6a50f4faa9fd6abc446db6df3",
      "cd6508dce77441c9a7446ef0951184fe",
      "6b81d8375537465c81c0845d730d8cde",
      "3a995c0b6d8244719f941d322af5fdc1",
      "c15c96f1a43544858d1bb0315a85a980",
      "8c717b3e3f62408da3d29fceb60162d7",
      "23f525c6a0da4d01ac20fe72946514e8",
      "8089f074a3014d8d948f1b7ba2595678",
      "5b924d58708541f1be342173719c91e3",
      "697726fc3ffd43608e3c7d40728385ed",
      "891f9c398fa34ceab75ea7512a661e18",
      "35e3d7ff8135439ebbad9900381da8ca",
      "4d44de065b0b42369e8594fc638795ff",
      "28cc44afdc384089963c49de7c8b4411",
      "39c0e22bceaa4eb4823b1bcc3b9fd3fc",
      "fedbbdff46484205a5f20ac2bffdd7cb",
      "924177f81661466c8b15d9461127a6d9",
      "d06ca0b62be74d4ea67312f3f4ff305e",
      "2a891fd7c10642a2ae12cc7bfc0aa171",
      "16a8610589e84d27b7a2b5abb9bb258c",
      "f5608ac98f1946348f32ef9b995a54ff",
      "5f343ff7fc44441183251d9272bbcde8",
      "b3200354ea594a9487ecaf560544f0fe",
      "42a39f382f8149daad69a37cc172a229",
      "7e4827d4a97c47c3a179c187c5a3b491",
      "fefffc23d91a4ca99605b9511954311b",
      "e61d224812914902bb1cbb37a35475fa",
      "8b4365be592b4c65a71f895034743c87",
      "9ebe5fd0cfed4b239dba6a8a48052c25",
      "003985c81e7d458aa9d83e6f3fd6d173",
      "b76663dcabcb4880ba46e96bc90c90e9",
      "95832d3e0838432998fa225cfc108795",
      "3d0418da7b2b434f8efe3bdba6857824",
      "cf4fe7367cbc459584254c1f45dbda7b",
      "88462dbd2f6b4cdfb4cb569fd27b5487",
      "b896677f6b2745178390045bf17b5ad5",
      "365fb47c4b954ba19c444a78abb3fb7e",
      "c0eeceed4b054b259d6eafb87a030083",
      "eaa347884720428d9c7665604ab90ad6",
      "4888bbf504d349b184bdd0f27250e86e",
      "de378f25993a488e8bf16fff5b27a2d5",
      "a63ebc667d2945c98d86d0ca2603f7a9",
      "6a47cd413b0040ee839eec37a88e368a",
      "107ad6a9a76048c0a3b0432b267729a9",
      "4e511a6780f54e8e8971f2336b0ae20e",
      "a1ad3cf2a7094ac6ae2b6f1fd0cd5d8d",
      "75beedc6f8134075af00d620589db356",
      "46e66c860bb745ed8dc436057935b9cf",
      "ba9cf6cd954c453b8c92e956f7c28439",
      "6c4f2aa7c60449039375fa1e9a2fa386",
      "f9c929f310f048478b6bdf95782325bb",
      "9ff8dcb7d28240e0863b1cd2c13b6e46",
      "a809562531514fdd8156f1c49d20b097",
      "f591108299ee42bbbc6d1220ce301da5",
      "7bb04c9adeee476a97f375d1c89b461e",
      "6aeb4466c8724b48a0fa6b458b190811",
      "9e9dd4769ea1481abbb96e85f45c8350",
      "06dfb07e640e4e7eb354c58c799ebf48",
      "23fbf28f24d44c408b817760dbeecdc9",
      "c3b29c52da3b4fea9672068210dc417b",
      "c615e8b721b747a7b70c2fca9b28c14f",
      "eb078314dec84b94a070fab89d980d53",
      "7487258c08654d54816d481af1897a17",
      "bf078bd6bf084fd983b2902c8cd833c4",
      "7595398a27a24098bcd13a1cb2e64938",
      "b78acbc5d9474d44b26e69773ab02654",
      "01a66235cadc464b86e7f15a2fd87ca5",
      "29c31a2411284521a57217f04ad116cf",
      "d1eda35075304aa0ad077c9d7e5bbb35",
      "79adc1936dd34631bab03101a120bc28",
      "1d554c61eeb345b9948b074f60e696ea",
      "7ef8d5c9500944e89cc9640b7d9dc1fa",
      "05b81c5269a74cfd95ad398520c9f674",
      "deb2ffe564424b8794a668fedf0e20bd",
      "53d0ced73f35489cba6d9b138149f2ba",
      "9596b0e340c14aac8acbf95ff85dba8f"
     ]
    },
    "id": "F0RFNL3Bx7VL",
    "outputId": "cb1cf042-67d8-4374-e1be-e8823ccb3744"
   },
   "outputs": [
    {
     "data": {
      "application/vnd.jupyter.widget-view+json": {
       "model_id": "51747093b8b144228ea13532e974cd77",
       "version_major": 2,
       "version_minor": 0
      },
      "text/plain": [
       "modules.json:   0%|          | 0.00/349 [00:00<?, ?B/s]"
      ]
     },
     "metadata": {},
     "output_type": "display_data"
    },
    {
     "data": {
      "application/vnd.jupyter.widget-view+json": {
       "model_id": "84bfabb0ad0348b59f9692242e509cab",
       "version_major": 2,
       "version_minor": 0
      },
      "text/plain": [
       "config_sentence_transformers.json:   0%|          | 0.00/116 [00:00<?, ?B/s]"
      ]
     },
     "metadata": {},
     "output_type": "display_data"
    },
    {
     "data": {
      "application/vnd.jupyter.widget-view+json": {
       "model_id": "a032731552a34ddcbe968aba93fa7d17",
       "version_major": 2,
       "version_minor": 0
      },
      "text/plain": [
       "README.md: 0.00B [00:00, ?B/s]"
      ]
     },
     "metadata": {},
     "output_type": "display_data"
    },
    {
     "data": {
      "application/vnd.jupyter.widget-view+json": {
       "model_id": "26a760f99cf74858bcd49907a61d3cc4",
       "version_major": 2,
       "version_minor": 0
      },
      "text/plain": [
       "sentence_bert_config.json:   0%|          | 0.00/53.0 [00:00<?, ?B/s]"
      ]
     },
     "metadata": {},
     "output_type": "display_data"
    },
    {
     "data": {
      "application/vnd.jupyter.widget-view+json": {
       "model_id": "1f565ab5befe44199dcefc7b9ed55836",
       "version_major": 2,
       "version_minor": 0
      },
      "text/plain": [
       "config.json:   0%|          | 0.00/612 [00:00<?, ?B/s]"
      ]
     },
     "metadata": {},
     "output_type": "display_data"
    },
    {
     "data": {
      "application/vnd.jupyter.widget-view+json": {
       "model_id": "891f9c398fa34ceab75ea7512a661e18",
       "version_major": 2,
       "version_minor": 0
      },
      "text/plain": [
       "model.safetensors:   0%|          | 0.00/90.9M [00:00<?, ?B/s]"
      ]
     },
     "metadata": {},
     "output_type": "display_data"
    },
    {
     "data": {
      "application/vnd.jupyter.widget-view+json": {
       "model_id": "5f343ff7fc44441183251d9272bbcde8",
       "version_major": 2,
       "version_minor": 0
      },
      "text/plain": [
       "tokenizer_config.json:   0%|          | 0.00/350 [00:00<?, ?B/s]"
      ]
     },
     "metadata": {},
     "output_type": "display_data"
    },
    {
     "data": {
      "application/vnd.jupyter.widget-view+json": {
       "model_id": "3d0418da7b2b434f8efe3bdba6857824",
       "version_major": 2,
       "version_minor": 0
      },
      "text/plain": [
       "vocab.txt: 0.00B [00:00, ?B/s]"
      ]
     },
     "metadata": {},
     "output_type": "display_data"
    },
    {
     "data": {
      "application/vnd.jupyter.widget-view+json": {
       "model_id": "107ad6a9a76048c0a3b0432b267729a9",
       "version_major": 2,
       "version_minor": 0
      },
      "text/plain": [
       "tokenizer.json: 0.00B [00:00, ?B/s]"
      ]
     },
     "metadata": {},
     "output_type": "display_data"
    },
    {
     "data": {
      "application/vnd.jupyter.widget-view+json": {
       "model_id": "7bb04c9adeee476a97f375d1c89b461e",
       "version_major": 2,
       "version_minor": 0
      },
      "text/plain": [
       "special_tokens_map.json:   0%|          | 0.00/112 [00:00<?, ?B/s]"
      ]
     },
     "metadata": {},
     "output_type": "display_data"
    },
    {
     "data": {
      "application/vnd.jupyter.widget-view+json": {
       "model_id": "b78acbc5d9474d44b26e69773ab02654",
       "version_major": 2,
       "version_minor": 0
      },
      "text/plain": [
       "config.json:   0%|          | 0.00/190 [00:00<?, ?B/s]"
      ]
     },
     "metadata": {},
     "output_type": "display_data"
    },
    {
     "name": "stdout",
     "output_type": "stream",
     "text": [
      "✅ Similarity model loaded.\n"
     ]
    }
   ],
   "source": [
    "similarity_model = SentenceTransformer('all-MiniLM-L6-v2')\n",
    "print(\"✅ Similarity model loaded.\")"
   ]
  },
  {
   "cell_type": "markdown",
   "metadata": {
    "id": "F9C26eLD0kOZ"
   },
   "source": [
    "## Load Two Input Text Files"
   ]
  },
  {
   "cell_type": "code",
   "execution_count": null,
   "metadata": {
    "id": "45e167c2"
   },
   "outputs": [],
   "source": [
    "def load_text_file(*args):\n",
    "  \"\"\"\n",
    "  A simple function to concatenate multiple strings.\n",
    "  In a real scenario, this would load text from files.\n",
    "  \"\"\"\n",
    "  return \"\\n\\n\".join(args)"
   ]
  },
  {
   "cell_type": "code",
   "execution_count": null,
   "metadata": {
    "colab": {
     "base_uri": "https://localhost:8080/"
    },
    "id": "Cn1MG1KL0rq_",
    "outputId": "4ccfcb4f-498a-4466-f3ab-4b781f83e32e"
   },
   "outputs": [
    {
     "name": "stdout",
     "output_type": "stream",
     "text": [
      "\n",
      "Recent advances in artificial intelligence (AI) are transforming healthcare \n",
      "delivery, diagnosis, and research. Machine learning models now assist \n",
      "physicians by analyzing medical images such as X-rays and MRIs, detecting \n",
      "anomalies often at or above human-level accuracy. Natural language processing \n",
      "helps extract useful information from electronic health records (EHRs), \n",
      "making long patient histories searchable and enabling clinical decision \n",
      "support.\n",
      "AI-driven drug discovery pipelines speed up candidate screening by predicting \n",
      "molecular properties and potential toxicity, lowering time-to-discovery and \n",
      "cost. Personalized medicine benefits from predictive models that combine \n",
      "genomic, lifestyle, and clinical data to recommend tailored therapies. \n",
      "Telemedicine adoption — accelerated by the COVID-19 pandemic — relies on AI \n",
      "for remote monitoring and triage.\n",
      "However, challenges remain. Data privacy and patient consent are critical \n",
      "when using sensitive health records. Models trained on limited or biased \n",
      "datasets may perform poorly for underrepresented populations, exacerbating \n",
      "health disparities. Explainability is another concern: clinicians need \n",
      "interpretable model outputs to trust recommendations. Regulatory frameworks \n",
      "and robust validation are required before clinical deployment.\n",
      "As research continues, interdisciplinary collaboration among clinicians, data \n",
      "scientists, regulators, and ethicists will be essential to ensure AI tools \n",
      "are safe, effective, and equitable. Investment in infrastructure, proper data \n",
      "governance, and transparent evaluation will help integrate AI responsibly \n",
      "within healthcare systems.\n",
      "\n",
      "\n",
      "\n",
      "Countries worldwide are ramping up investments in renewable energy as a \n",
      "response to climate change and the need for energy security. Solar \n",
      "photovoltaic and onshore wind are among the fastest-growing electricity \n",
      "4\n",
      "generation sources due to rapidly falling costs and favorable policy \n",
      "incentives. Many governments set ambitious targets to reach net-zero \n",
      "emissions by mid-century, driving accelerated deployment of renewables.\n",
      "Energy storage technologies, primarily lithium-ion batteries, are critical \n",
      "for handling the variable nature of solar and wind power. Improved grid \n",
      "infrastructure, including smart grids and demand response, helps integrate \n",
      "intermittency while maintaining reliability. Large-scale adoption of \n",
      "renewables also increases jobs in manufacturing, construction, and \n",
      "maintenance, providing economic co-benefits.\n",
      "Despite progress, challenges persist: grid modernization requires substantial \n",
      "capital, and mineral supply chains for batteries must be developed \n",
      "sustainably. Some regions face land-use constraints and community opposition \n",
      "to certain renewable projects. Policy stability and long-term planning are \n",
      "necessary to attract private investment.\n",
      "Continued innovation — whether in next-generation batteries, green hydrogen, \n",
      "or more efficient solar cells — will further lower costs and expand usecases. Combining renewables with energy efficiency measures and \n",
      "electrification of sectors like transport and heating is essential for deep \n",
      "decarbonization.\n",
      "\n",
      "\n",
      "AI is transforming healthcare through medical-image analysis, EHR \n",
      "mining, drug discovery acceleration, and personalized medicine. Challenges \n",
      "include data privacy, model bias, explainability, and the need for regulatory \n",
      "validation and interdisciplinary collaboration.\n",
      "\n",
      "Renewable energy deployment — especially solar and wind — is growing \n",
      "due to falling costs and policy targets, supported by energy storage and grid \n",
      "upgrades. Obstacles include infrastructure costs, battery supply-chain \n",
      "sustainability, and the need for policy stability and innovation to reach \n",
      "deep decarbonization.\n"
     ]
    }
   ],
   "source": [
    "input1 = '''\n",
    "Recent advances in artificial intelligence (AI) are transforming healthcare\n",
    "delivery, diagnosis, and research. Machine learning models now assist\n",
    "physicians by analyzing medical images such as X-rays and MRIs, detecting\n",
    "anomalies often at or above human-level accuracy. Natural language processing\n",
    "helps extract useful information from electronic health records (EHRs),\n",
    "making long patient histories searchable and enabling clinical decision\n",
    "support.\n",
    "AI-driven drug discovery pipelines speed up candidate screening by predicting\n",
    "molecular properties and potential toxicity, lowering time-to-discovery and\n",
    "cost. Personalized medicine benefits from predictive models that combine\n",
    "genomic, lifestyle, and clinical data to recommend tailored therapies.\n",
    "Telemedicine adoption — accelerated by the COVID-19 pandemic — relies on AI\n",
    "for remote monitoring and triage.\n",
    "However, challenges remain. Data privacy and patient consent are critical\n",
    "when using sensitive health records. Models trained on limited or biased\n",
    "datasets may perform poorly for underrepresented populations, exacerbating\n",
    "health disparities. Explainability is another concern: clinicians need\n",
    "interpretable model outputs to trust recommendations. Regulatory frameworks\n",
    "and robust validation are required before clinical deployment.\n",
    "As research continues, interdisciplinary collaboration among clinicians, data\n",
    "scientists, regulators, and ethicists will be essential to ensure AI tools\n",
    "are safe, effective, and equitable. Investment in infrastructure, proper data\n",
    "governance, and transparent evaluation will help integrate AI responsibly\n",
    "within healthcare systems.\n",
    "'''\n",
    "input2 = '''\n",
    "Countries worldwide are ramping up investments in renewable energy as a\n",
    "response to climate change and the need for energy security. Solar\n",
    "photovoltaic and onshore wind are among the fastest-growing electricity\n",
    "4\n",
    "generation sources due to rapidly falling costs and favorable policy\n",
    "incentives. Many governments set ambitious targets to reach net-zero\n",
    "emissions by mid-century, driving accelerated deployment of renewables.\n",
    "Energy storage technologies, primarily lithium-ion batteries, are critical\n",
    "for handling the variable nature of solar and wind power. Improved grid\n",
    "infrastructure, including smart grids and demand response, helps integrate\n",
    "intermittency while maintaining reliability. Large-scale adoption of\n",
    "renewables also increases jobs in manufacturing, construction, and\n",
    "maintenance, providing economic co-benefits.\n",
    "Despite progress, challenges persist: grid modernization requires substantial\n",
    "capital, and mineral supply chains for batteries must be developed\n",
    "sustainably. Some regions face land-use constraints and community opposition\n",
    "to certain renewable projects. Policy stability and long-term planning are\n",
    "necessary to attract private investment.\n",
    "Continued innovation — whether in next-generation batteries, green hydrogen,\n",
    "or more efficient solar cells — will further lower costs and expand usecases. Combining renewables with energy efficiency measures and\n",
    "electrification of sectors like transport and heating is essential for deep\n",
    "decarbonization.\n",
    "'''\n",
    "ref1 = '''AI is transforming healthcare through medical-image analysis, EHR\n",
    "mining, drug discovery acceleration, and personalized medicine. Challenges\n",
    "include data privacy, model bias, explainability, and the need for regulatory\n",
    "validation and interdisciplinary collaboration.'''\n",
    "ref2 = '''Renewable energy deployment — especially solar and wind — is growing\n",
    "due to falling costs and policy targets, supported by energy storage and grid\n",
    "upgrades. Obstacles include infrastructure costs, battery supply-chain\n",
    "sustainability, and the need for policy stability and innovation to reach\n",
    "deep decarbonization.'''\n",
    "\n",
    "cleaned_text = load_text_file(input1, input2, ref1, ref2)\n",
    "print(cleaned_text)"
   ]
  },
  {
   "cell_type": "code",
   "execution_count": null,
   "metadata": {
    "id": "ZR_w-IB42sGZ"
   },
   "outputs": [],
   "source": [
    "def validate_text(text):\n",
    "    \"\"\"Validate text input.\"\"\"\n",
    "    if not isinstance(text, str) or len(text.strip()) < 50:\n",
    "        raise ValueError(\"Invalid text: must be a string with at least 50 characters.\")\n",
    "    return text\n"
   ]
  },
  {
   "cell_type": "code",
   "execution_count": null,
   "metadata": {
    "colab": {
     "base_uri": "https://localhost:8080/"
    },
    "id": "TAFQJ0rI2uAl",
    "outputId": "a7094690-20b6-412d-ac83-67586627826d"
   },
   "outputs": [
    {
     "name": "stdout",
     "output_type": "stream",
     "text": [
      "Cleaned text Preview: {1644}  characters\n",
      "\n",
      "Recent advances in artificial intelligence (AI) are transforming healthcare \n",
      "delivery, diagnosis, and research. Machine learning models now assist \n",
      "physicians by analyzing medical images such as X-rays and MRIs, detecting \n",
      "anomalies often at or above human-level accuracy. Natural language processing \n",
      "helps extract useful information from electronic health records (EHRs), \n",
      "making long patient histories searchable and enabling clinical decision \n",
      "support.\n",
      "AI-driven drug discovery pipelines speed u\n"
     ]
    }
   ],
   "source": [
    "cleaned_text = load_text_file(input1, input2, ref1, ref2)\n",
    "print(\"Cleaned text Preview:\", {len(input1)},\" characters\")\n",
    "print(cleaned_text[:500])"
   ]
  },
  {
   "cell_type": "markdown",
   "metadata": {
    "id": "xo2PC0PT58_e"
   },
   "source": [
    "# Text Summarization"
   ]
  },
  {
   "cell_type": "markdown",
   "metadata": {
    "id": "tGvbTowp5Iza"
   },
   "source": [
    "## T5 Summarization"
   ]
  },
  {
   "cell_type": "code",
   "execution_count": null,
   "metadata": {
    "id": "T6xztHMzjeoC"
   },
   "outputs": [],
   "source": [
    "def generate_t5_summary(text, min_len=40, max_len=150, beams=4):\n",
    "    \"\"\"Abstractive summarization with T5.\"\"\"\n",
    "    input_text = \"summarize: \" + text.strip().replace(\"\\n\", \" \")\n",
    "    inputs = t5_tokenizer.encode(input_text, return_tensors='pt', max_length=1024, truncation=True)\n",
    "    summary_ids = t5_model.generate(\n",
    "        inputs,\n",
    "        max_length=max_len,\n",
    "        min_length=min_len,\n",
    "        num_beams=beams,\n",
    "        no_repeat_ngram_size=3,\n",
    "        length_penalty=2.0,\n",
    "        early_stopping=True\n",
    "    )\n",
    "    return t5_tokenizer.decode(summary_ids[0], skip_special_tokens=True)"
   ]
  },
  {
   "cell_type": "code",
   "execution_count": null,
   "metadata": {
    "id": "dIdrPbQmoxLq"
   },
   "outputs": [],
   "source": [
    "def clean_text(text):\n",
    "    \"\"\"Remove special characters and normalize whitespace.\"\"\"\n",
    "    text = re.sub(r'[^\\x00-\\x7F]+', ' ', text)  # Remove non-ASCII characters\n",
    "    text = re.sub(r'\\s+', ' ', text)  # Normalize whitespace\n",
    "    return text.strip()"
   ]
  },
  {
   "cell_type": "markdown",
   "metadata": {
    "id": "wZIUkctA5ext"
   },
   "source": [
    "## BART Summarization"
   ]
  },
  {
   "cell_type": "code",
   "execution_count": null,
   "metadata": {
    "id": "jXnJC-wNjl1A"
   },
   "outputs": [],
   "source": [
    "def generate_bart_summary(text, min_len=40, max_len=150, beams=4):\n",
    "    \"\"\"Abstractive summarization with BART.\"\"\"\n",
    "    inputs = bart_tokenizer.encode(text, return_tensors='pt', max_length=1024, truncation=True)\n",
    "    summary_ids = bart_model.generate(\n",
    "        inputs,\n",
    "        max_length=max_len,\n",
    "        min_length=min_len,\n",
    "        num_beams=beams,\n",
    "        no_repeat_ngram_size=3,\n",
    "        length_penalty=2.0,\n",
    "        early_stopping=True\n",
    "    )\n",
    "    return bart_tokenizer.decode(summary_ids[0], skip_special_tokens=True)"
   ]
  },
  {
   "cell_type": "markdown",
   "metadata": {
    "id": "DkC3CgkU5rCW"
   },
   "source": [
    "## PEGASUS Summarization"
   ]
  },
  {
   "cell_type": "code",
   "execution_count": null,
   "metadata": {
    "id": "erKxAroQjul3"
   },
   "outputs": [],
   "source": [
    "def generate_pegasus_summary(text, min_len=40, max_len=150, beams=4):\n",
    "    \"\"\"Abstractive summarization with PEGASUS.\"\"\"\n",
    "    # Clean and truncate input to prevent tokenization issues\n",
    "    text = clean_text(text[:1500])  # Stricter truncation to 1500 chars\n",
    "    try:\n",
    "        inputs = pegasus_sum_tokenizer.encode(\n",
    "            text,\n",
    "            return_tensors='pt',\n",
    "            max_length=512,  # Reduced max_length for safety\n",
    "            truncation=True,\n",
    "            padding='max_length'  # Ensure consistent input size\n",
    "        )\n",
    "        # Validate token IDs\n",
    "        if inputs.max().item() >= pegasus_sum_tokenizer.vocab_size:\n",
    "            raise ValueError(f\"Token ID {inputs.max().item()} exceeds vocab size {pegasus_sum_tokenizer.vocab_size}.\")\n",
    "        summary_ids = pegasus_sum_model.generate(\n",
    "            inputs,\n",
    "            max_length=max_len,\n",
    "            min_length=min_len,\n",
    "            num_beams=beams,\n",
    "            no_repeat_ngram_size=3,\n",
    "            length_penalty=2.0,\n",
    "            early_stopping=True\n",
    "        )\n",
    "        return pegasus_sum_tokenizer.decode(summary_ids[0], skip_special_tokens=True)\n",
    "    except Exception as e:\n",
    "        print(f\"PEGASUS summarization failed: {e}\")\n",
    "        return \"Summary unavailable due to processing error.\""
   ]
  },
  {
   "cell_type": "markdown",
   "metadata": {
    "id": "844y7tbw6IJc"
   },
   "source": [
    "# Text Paraphrasing"
   ]
  },
  {
   "cell_type": "markdown",
   "metadata": {
    "id": "nfT0nOzv6t9d"
   },
   "source": [
    "## PEGASUS Paraphrasing"
   ]
  },
  {
   "cell_type": "code",
   "execution_count": null,
   "metadata": {
    "id": "VEXAsUhWj0K7"
   },
   "outputs": [],
   "source": [
    "def generate_pegasus_paraphrase(text, num_return=3, beams=10):\n",
    "    \"\"\"Generate paraphrases with PEGASUS.\"\"\"\n",
    "    inputs = pegasus_para_tokenizer.encode(text, return_tensors='pt', truncation=True, max_length=60)\n",
    "    paraphrase_ids = pegasus_para_model.generate(\n",
    "        inputs,\n",
    "        max_length=60,\n",
    "        num_beams=beams,\n",
    "        num_return_sequences=num_return,\n",
    "        early_stopping=True\n",
    "    )\n",
    "    return pegasus_para_tokenizer.batch_decode(paraphrase_ids, skip_special_tokens=True)"
   ]
  },
  {
   "cell_type": "markdown",
   "metadata": {
    "id": "19U_6I6v6YKX"
   },
   "source": [
    "## T5 Paraphrasing"
   ]
  },
  {
   "cell_type": "code",
   "execution_count": null,
   "metadata": {
    "id": "uqN4KPlxj7Ij"
   },
   "outputs": [],
   "source": [
    "def generate_t5_paraphrase(text, num_return=3, beams=10):\n",
    "    \"\"\"Generate paraphrases with T5-Paraphrase.\"\"\"\n",
    "    input_text = f\"paraphrase: {text} </s>\"\n",
    "    inputs = paraphrase_t5_tokenizer.encode(input_text, return_tensors='pt', max_length=512, truncation=True)\n",
    "    paraphrase_ids = paraphrase_t5_model.generate(\n",
    "        inputs,\n",
    "        max_length=60,\n",
    "        num_beams=beams,\n",
    "        num_return_sequences=num_return,\n",
    "        early_stopping=True\n",
    "    )\n",
    "    return paraphrase_t5_tokenizer.batch_decode(paraphrase_ids, skip_special_tokens=True)"
   ]
  },
  {
   "cell_type": "markdown",
   "metadata": {
    "id": "4MfolmZR6i9m"
   },
   "source": [
    "## BART Paraphrasing"
   ]
  },
  {
   "cell_type": "code",
   "execution_count": null,
   "metadata": {
    "id": "wuYhp9q2kCcl"
   },
   "outputs": [],
   "source": [
    "def generate_bart_paraphrase(text, num_return=3, beams=10):\n",
    "    \"\"\"Generate paraphrases with BART-Paraphrase.\"\"\"\n",
    "    inputs = paraphrase_bart_tokenizer.encode(text, return_tensors='pt', truncation=True, max_length=60)\n",
    "    paraphrase_ids = paraphrase_bart_model.generate(\n",
    "        inputs,\n",
    "        max_length=60,\n",
    "        num_beams=beams,\n",
    "        num_return_sequences=num_return,\n",
    "        early_stopping=True\n",
    "    )\n",
    "    return paraphrase_bart_tokenizer.batch_decode(paraphrase_ids, skip_special_tokens=True)"
   ]
  },
  {
   "cell_type": "markdown",
   "metadata": {
    "id": "svnKr4AI7BUZ"
   },
   "source": [
    "## Similarity Analysis"
   ]
  },
  {
   "cell_type": "code",
   "execution_count": null,
   "metadata": {
    "id": "DcH5JhqhkHu5"
   },
   "outputs": [],
   "source": [
    "def compute_similarity(text1, text2):\n",
    "    \"\"\"Compute cosine similarity between texts.\"\"\"\n",
    "    embeddings = similarity_model.encode([text1, text2])\n",
    "    return cosine_similarity([embeddings[0]], [embeddings[1]])[0][0]"
   ]
  },
  {
   "cell_type": "markdown",
   "metadata": {
    "id": "azWS-Quo7K1G"
   },
   "source": [
    "## Model Comparison"
   ]
  },
  {
   "cell_type": "code",
   "execution_count": null,
   "metadata": {
    "id": "tI6FLsq0kNWH"
   },
   "outputs": [],
   "source": [
    "def analyze_summary_length(summary):\n",
    "    \"\"\"Compute word count of summary.\"\"\"\n",
    "    return len(summary.split())  # Simple split instead of NLTK tokenization"
   ]
  },
  {
   "cell_type": "markdown",
   "metadata": {
    "id": "yIyFMEOZ7S3r"
   },
   "source": [
    "## Similarity to Original"
   ]
  },
  {
   "cell_type": "code",
   "execution_count": null,
   "metadata": {
    "id": "iWR2WO3YkUfI"
   },
   "outputs": [],
   "source": [
    "def similarity_to_original(summary, original_text):\n",
    "    \"\"\"Compute similarity between summary and original.\"\"\"\n",
    "    return compute_similarity(summary, original_text[:2000])"
   ]
  },
  {
   "cell_type": "markdown",
   "metadata": {
    "id": "nf0umozT7arJ"
   },
   "source": [
    "## Summarization Comparison\n",
    "####Compare T5, BART, and PEGASUS for summarization."
   ]
  },
  {
   "cell_type": "code",
   "execution_count": null,
   "metadata": {
    "id": "2mErKEJEkZEw"
   },
   "outputs": [],
   "source": [
    "def compare_summarizers_enhanced(text, min_len=40, max_len=150, beams=4):\n",
    "    \"\"\"Enhanced comparison of T5, BART, and PEGASUS for summarization.\"\"\"\n",
    "    t5_sum = generate_t5_summary(text[:2000], min_len, max_len, beams)\n",
    "    bart_sum = generate_bart_summary(text[:2000], min_len, max_len, beams)\n",
    "    pegasus_sum = generate_pegasus_summary(text[:2000], min_len, max_len, beams)\n",
    "\n",
    "    metrics = {\n",
    "        't5': {\n",
    "            'summary': t5_sum,\n",
    "            'length': analyze_summary_length(t5_sum),\n",
    "            'sim_to_original': similarity_to_original(t5_sum, text)\n",
    "        },\n",
    "        'bart': {\n",
    "            'summary': bart_sum,\n",
    "            'length': analyze_summary_length(bart_sum),\n",
    "            'sim_to_original': similarity_to_original(bart_sum, text)\n",
    "        },\n",
    "        'pegasus': {\n",
    "            'summary': pegasus_sum,\n",
    "            'length': analyze_summary_length(pegasus_sum),\n",
    "            'sim_to_original': similarity_to_original(pegasus_sum, text)\n",
    "        },\n",
    "        'sim_t5_bart': compute_similarity(t5_sum, bart_sum),\n",
    "        'sim_t5_pegasus': compute_similarity(t5_sum, pegasus_sum),\n",
    "        'sim_bart_pegasus': compute_similarity(bart_sum, pegasus_sum)\n",
    "    }\n",
    "\n",
    "    print(\"----------- Enhanced Summarization Comparison -----------\")\n",
    "    print(f\"T5 Summary (Length: {metrics['t5']['length']}, Sim to Original: {metrics['t5']['sim_to_original']:.3f}):\")\n",
    "    print(textwrap.fill(t5_sum, width=100))\n",
    "    print(f\"\\nBART Summary (Length: {metrics['bart']['length']}, Sim to Original: {metrics['bart']['sim_to_original']:.3f}):\")\n",
    "    print(textwrap.fill(bart_sum, width=100))\n",
    "    print(f\"\\nPEGASUS Summary (Length: {metrics['pegasus']['length']}, Sim to Original: {metrics['pegasus']['sim_to_original']:.3f}):\")\n",
    "    print(textwrap.fill(pegasus_sum, width=100))\n",
    "    print(f\"\\nSimilarity T5 vs BART: {metrics['sim_t5_bart']:.3f}\")\n",
    "    print(f\"Similarity T5 vs PEGASUS: {metrics['sim_t5_pegasus']:.3f}\")\n",
    "    print(f\"Similarity BART vs PEGASUS: {metrics['sim_bart_pegasus']:.3f}\")\n",
    "\n",
    "    return metrics"
   ]
  },
  {
   "cell_type": "markdown",
   "metadata": {
    "id": "MkgQNpfF7p24"
   },
   "source": [
    "##Paraphrasing Comparison\n",
    "####Compare PEGASUS, T5-Paraphrase, and BART-Paraphrase."
   ]
  },
  {
   "cell_type": "code",
   "execution_count": null,
   "metadata": {
    "id": "5tCRtDqjkmol"
   },
   "outputs": [],
   "source": [
    "def compare_paraphrasers_enhanced(text, num_return=3, beams=10):\n",
    "    \"\"\"Enhanced comparison of PEGASUS, T5-Paraphrase, and BART-Paraphrase.\"\"\"\n",
    "    peg_paras = generate_pegasus_paraphrase(text, num_return, beams)\n",
    "    t5_paras = generate_t5_paraphrase(text, num_return, beams)\n",
    "    bart_paras = generate_bart_paraphrase(text, num_return, beams)\n",
    "\n",
    "    metrics = {\n",
    "        'pegasus': {\n",
    "            'paraphrases': peg_paras,\n",
    "            'avg_length': sum(len(p.split()) for p in peg_paras) / len(peg_paras),\n",
    "            'avg_sim_to_original': sum(compute_similarity(p, text) for p in peg_paras) / len(peg_paras)\n",
    "        },\n",
    "        't5_paraphrase': {\n",
    "            'paraphrases': t5_paras,\n",
    "            'avg_length': sum(len(p.split()) for p in t5_paras) / len(t5_paras),\n",
    "            'avg_sim_to_original': sum(compute_similarity(p, text) for p in t5_paras) / len(t5_paras)\n",
    "        },\n",
    "        'bart_paraphrase': {\n",
    "            'paraphrases': bart_paras,\n",
    "            'avg_length': sum(len(p.split()) for p in bart_paras) / len(bart_paras),\n",
    "            'avg_sim_to_original': sum(compute_similarity(p, text) for p in bart_paras) / len(bart_paras)\n",
    "        },\n",
    "        'avg_sim_peg_t5': sum(compute_similarity(peg_paras[i], t5_paras[i]) for i in range(num_return)) / num_return,\n",
    "        'avg_sim_peg_bart': sum(compute_similarity(peg_paras[i], bart_paras[i]) for i in range(num_return)) / num_return,\n",
    "        'avg_sim_t5_bart': sum(compute_similarity(t5_paras[i], bart_paras[i]) for i in range(num_return)) / num_return\n",
    "    }\n",
    "\n",
    "    print(\"----------- Enhanced Paraphrasing Comparison -----------\")\n",
    "    print(f\"PEGASUS Paraphrases (Avg Length: {metrics['pegasus']['avg_length']:.1f}, Avg Sim to Original: {metrics['pegasus']['avg_sim_to_original']:.3f}):\")\n",
    "    for i, p in enumerate(peg_paras, 1):\n",
    "        print(f\"  {i}. {p}\")\n",
    "    print(f\"\\nT5-Paraphrase Paraphrases (Avg Length: {metrics['t5_paraphrase']['avg_length']:.1f}, Avg Sim to Original: {metrics['t5_paraphrase']['avg_sim_to_original']:.3f}):\")\n",
    "    for i, p in enumerate(t5_paras, 1):\n",
    "        print(f\"  {i}. {p}\")\n",
    "    print(f\"\\nBART-Paraphrase Paraphrases (Avg Length: {metrics['bart_paraphrase']['avg_length']:.1f}, Avg Sim to Original: {metrics['bart_paraphrase']['avg_sim_to_original']:.3f}):\")\n",
    "    for i, p in enumerate(bart_paras, 1):\n",
    "        print(f\"  {i}. {p}\")\n",
    "    print(f\"\\nAverage Similarity PEGASUS vs T5-Paraphrase: {metrics['avg_sim_peg_t5']:.3f}\")\n",
    "    print(f\"Average Similarity PEGASUS vs BART-Paraphrase: {metrics['avg_sim_peg_bart']:.3f}\")\n",
    "    print(f\"Average Similarity T5-Paraphrase vs BART-Paraphrase: {metrics['avg_sim_t5_bart']:.3f}\")\n",
    "\n",
    "    return metrics"
   ]
  },
  {
   "cell_type": "markdown",
   "metadata": {
    "id": "i0hbN8w673zT"
   },
   "source": [
    "##Integrated TextMorph Pipeline"
   ]
  },
  {
   "cell_type": "code",
   "execution_count": null,
   "metadata": {
    "id": "0NOx3wfykyVG"
   },
   "outputs": [],
   "source": [
    "class TextMorphPipeline:\n",
    "    \"\"\"Streamlined TextMorph pipeline for text files, no preprocessing or NLP.\"\"\"\n",
    "\n",
    "    def __init__(self):\n",
    "        self.reference_texts = []\n",
    "\n",
    "    def add_reference(self, text):\n",
    "        \"\"\"Add reference text for similarity.\"\"\"\n",
    "        self.reference_texts.append(text)"
   ]
  },
  {
   "cell_type": "markdown",
   "metadata": {
    "id": "ZHlMNrYK7_hE"
   },
   "source": [
    "##Pipeline Summarization Step"
   ]
  },
  {
   "cell_type": "code",
   "execution_count": null,
   "metadata": {
    "id": "fZbY02Qdk8RR"
   },
   "outputs": [],
   "source": [
    "def pipeline_summarize(self, input_text, summarizer='t5'):\n",
    "    \"\"\"Summarization step in pipeline.\"\"\"\n",
    "    if summarizer == 't5':\n",
    "        summary = generate_t5_summary(input_text)\n",
    "    elif summarizer == 'bart':\n",
    "        summary = generate_bart_summary(input_text)\n",
    "    elif summarizer == 'pegasus':\n",
    "        summary = generate_pegasus_summary(input_text)\n",
    "    else:\n",
    "        raise ValueError(\"Invalid summarizer. Choose 't5', 'bart', or 'pegasus'.\")\n",
    "    return summary, summarizer"
   ]
  },
  {
   "cell_type": "markdown",
   "metadata": {
    "id": "3rnz8i4H8E-f"
   },
   "source": [
    "##Pipeline Paraphrasing Step"
   ]
  },
  {
   "cell_type": "code",
   "execution_count": null,
   "metadata": {
    "id": "qAf8trqElB0L"
   },
   "outputs": [],
   "source": [
    "def pipeline_paraphrase(self, input_text, paraphrase_sentences=2):\n",
    "    \"\"\"Paraphrasing step with comparison.\"\"\"\n",
    "    # Simple sentence splitting without NLTK\n",
    "    sentences = re.split(r'[.!?]+', input_text)[:paraphrase_sentences]\n",
    "    sentences = [s.strip() for s in sentences if s.strip()]\n",
    "    paraphrases = {}\n",
    "    for i, sent in enumerate(sentences):\n",
    "        key = f'Sentence {i+1}'\n",
    "        metrics = compare_paraphrasers_enhanced(sent)\n",
    "        paraphrases[key] = {'original': sent[:100] + \"...\", 'metrics': metrics}\n",
    "    return paraphrases"
   ]
  },
  {
   "cell_type": "markdown",
   "metadata": {
    "id": "q1GE2v9I8OXu"
   },
   "source": [
    " ##Pipeline Similarity Step"
   ]
  },
  {
   "cell_type": "code",
   "execution_count": null,
   "metadata": {
    "id": "IENpCAPvlGy1"
   },
   "outputs": [],
   "source": [
    "def pipeline_similarity(self, input_text, top_k_similar=2):\n",
    "    \"\"\"Similarity step in pipeline.\"\"\"\n",
    "    if self.reference_texts:\n",
    "        similarities = [(i+1, compute_similarity(input_text[:2000], ref)) for i, ref in enumerate(self.reference_texts)]\n",
    "        similarities.sort(key=lambda x: x[1], reverse=True)\n",
    "        return similarities[:top_k_similar]\n",
    "    return []"
   ]
  },
  {
   "cell_type": "markdown",
   "metadata": {
    "id": "U_irC5Qr8Ves"
   },
   "source": [
    "#Full Pipeline Process"
   ]
  },
  {
   "cell_type": "code",
   "execution_count": null,
   "metadata": {
    "id": "YhtFAFRBlSza"
   },
   "outputs": [],
   "source": [
    "def process(self, input_text, summarizer='t5', paraphrase_sentences=2, top_k_similar=2):\n",
    "    \"\"\"Run the full pipeline.\"\"\"\n",
    "    results = {}\n",
    "\n",
    "    summary, used_summarizer = pipeline_summarize(self, input_text, summarizer)\n",
    "    results['summary'] = summary\n",
    "    results['summarizer_used'] = used_summarizer\n",
    "\n",
    "    results['paraphrases'] = pipeline_paraphrase(self, input_text, paraphrase_sentences)\n",
    "\n",
    "    results['similarities'] = pipeline_similarity(self, input_text, top_k_similar)\n",
    "\n",
    "    return results\n",
    "\n",
    "# Bind methods to class\n",
    "TextMorphPipeline.pipeline_summarize = pipeline_summarize\n",
    "TextMorphPipeline.pipeline_paraphrase = pipeline_paraphrase\n",
    "TextMorphPipeline.pipeline_similarity = pipeline_similarity\n",
    "TextMorphPipeline.process = process\n",
    "\n",
    "# Initialize\n",
    "pipeline = TextMorphPipeline()"
   ]
  },
  {
   "cell_type": "markdown",
   "metadata": {
    "id": "R42lTVpg8d0C"
   },
   "source": [
    "##Process First Text (T5)\n",
    "####Run pipeline with T5 on first text."
   ]
  },
  {
   "cell_type": "code",
   "execution_count": null,
   "metadata": {
    "colab": {
     "base_uri": "https://localhost:8080/"
    },
    "id": "lzfdORM39IIE",
    "outputId": "bed5124f-47c1-4a7f-b13b-61184d736403"
   },
   "outputs": [
    {
     "name": "stderr",
     "output_type": "stream",
     "text": [
      "/usr/local/lib/python3.12/dist-packages/transformers/models/t5/tokenization_t5.py:287: UserWarning: This sequence already has </s>. In future versions this behavior may lead to duplicated eos tokens being added.\n",
      "  warnings.warn(\n"
     ]
    },
    {
     "name": "stdout",
     "output_type": "stream",
     "text": [
      "----------- Enhanced Paraphrasing Comparison -----------\n",
      "PEGASUS Paraphrases (Avg Length: 9.0, Avg Sim to Original: 0.917):\n",
      "  1. Artificial intelligence is transforming healthcare delivery, diagnosis, and research.\n",
      "  2. Artificial intelligence is transforming healthcare delivery, diagnosis and research.\n",
      "  3. Artificial intelligence is changing healthcare delivery, diagnosis, and research.\n",
      "\n",
      "T5-Paraphrase Paraphrases (Avg Length: 12.3, Avg Sim to Original: 0.981):\n",
      "  1. Recent advances in artificial intelligence (AI) are transforming healthcare delivery, diagnosis and research\n",
      "  2. Recent advances in artificial intelligence (AI) transform healthcare delivery, diagnosis and research\n",
      "  3. Recent advances in artificial intelligence (AI) transforming healthcare delivery, diagnosis and research\n",
      "\n",
      "BART-Paraphrase Paraphrases (Avg Length: 13.0, Avg Sim to Original: 0.998):\n",
      "  1. Recent advances in artificial intelligence (AI) are transforming healthcare delivery, diagnosis and research.\n",
      "  2. Recent advances in artificial intelligence (AI) are transforming healthcare delivery, diagnosis and research.\n",
      "  3. Recent advances in Artificial Intelligence (AI) are transforming healthcare delivery, diagnosis and research.\n",
      "\n",
      "Average Similarity PEGASUS vs T5-Paraphrase: 0.902\n",
      "Average Similarity PEGASUS vs BART-Paraphrase: 0.921\n",
      "Average Similarity T5-Paraphrase vs BART-Paraphrase: 0.979\n"
     ]
    },
    {
     "name": "stderr",
     "output_type": "stream",
     "text": [
      "/usr/local/lib/python3.12/dist-packages/transformers/models/t5/tokenization_t5.py:287: UserWarning: This sequence already has </s>. In future versions this behavior may lead to duplicated eos tokens being added.\n",
      "  warnings.warn(\n"
     ]
    },
    {
     "name": "stdout",
     "output_type": "stream",
     "text": [
      "----------- Enhanced Paraphrasing Comparison -----------\n",
      "PEGASUS Paraphrases (Avg Length: 18.0, Avg Sim to Original: 0.911):\n",
      "  1. Machine learning models can be used to analyze medical images, detecting anomalies often at or above human-level accuracy.\n",
      "  2. Doctors can use machine learning models to analyze medical images, detecting anomalies often at or above human-level accuracy.\n",
      "  3. Machine learning models can help physicians by analyzing medical images, detecting anomalies often at or above human-level accuracy.\n",
      "\n",
      "T5-Paraphrase Paraphrases (Avg Length: 24.7, Avg Sim to Original: 0.997):\n",
      "  1. Machine learning models now assist physicians by analyzing medical images such as X-rays and MRIs, detecting anomalies often at or above human-level accuracy .\n",
      "  2. Machine learning models now assist physicians by analyzing medical images such as X-rays and MRIs and detecting anomalies often at or above human-level accuracy .\n",
      "  3. Machine learning models now assist physicians by analyzing medical images such as X-rays and MRIs, detecting anomalies often at or above human level accuracy .\n",
      "\n",
      "BART-Paraphrase Paraphrases (Avg Length: 22.7, Avg Sim to Original: 0.824):\n",
      "  1. Machine learning models now assist physiologists by analyzing medical images such as X-rays and MRIs, detecting  isEnabledanomalies often at or above human-level accuracy.\n",
      "  2. Machine learning models now assist izersphysicians by analyzing medical images such as X-rays and MRIs, detecting izersomalies often at or above human-level accuracy.\n",
      "  3. Machine learning models now assist physiologists by analyzing medical images such as X-rays and MRIs, detecting  isEnabledanomalies often with high human-level accuracy.\n",
      "\n",
      "Average Similarity PEGASUS vs T5-Paraphrase: 0.912\n",
      "Average Similarity PEGASUS vs BART-Paraphrase: 0.757\n",
      "Average Similarity T5-Paraphrase vs BART-Paraphrase: 0.826\n",
      "----------- T5 on First Text (Artificial Intelligence) -----------\n",
      "Summary: machine learning (AI) is transforming healthcare delivery, diagnosis, and research . natural\n",
      "language processing helps extract useful information from electronic health records . telemedicine\n",
      "adoption — accelerated by the COVID-19 pandemic — relies on AI .\n"
     ]
    }
   ],
   "source": [
    "cleaned_text = input1\n",
    "results_t5_first = pipeline.process(cleaned_text, summarizer='t5')\n",
    "print(\"----------- T5 on First Text (Artificial Intelligence) -----------\")\n",
    "print(f\"Summary: {textwrap.fill(results_t5_first['summary'], width=100)}\")"
   ]
  },
  {
   "cell_type": "markdown",
   "metadata": {
    "id": "-msX83vE_P-1"
   },
   "source": [
    "#Process Second Text (PEGASUS)\n",
    "####Run pipeline with PEGASUS on second text."
   ]
  },
  {
   "cell_type": "code",
   "execution_count": null,
   "metadata": {
    "colab": {
     "base_uri": "https://localhost:8080/"
    },
    "id": "OFOPfHZF_d9v",
    "outputId": "5153a717-a422-4355-db1b-2eb712646fd2"
   },
   "outputs": [
    {
     "name": "stderr",
     "output_type": "stream",
     "text": [
      "/usr/local/lib/python3.12/dist-packages/transformers/models/t5/tokenization_t5.py:287: UserWarning: This sequence already has </s>. In future versions this behavior may lead to duplicated eos tokens being added.\n",
      "  warnings.warn(\n"
     ]
    },
    {
     "name": "stdout",
     "output_type": "stream",
     "text": [
      "----------- Enhanced Paraphrasing Comparison -----------\n",
      "PEGASUS Paraphrases (Avg Length: 19.0, Avg Sim to Original: 0.870):\n",
      "  1. The need for energy security is one of the reasons why countries are increasing investments in renewable energy.\n",
      "  2. The need for energy security is one of the reasons why countries are increasing their investments in renewable energy.\n",
      "  3. As a response to climate change and the need for energy security, many countries are increasing investments in renewable energy.\n",
      "\n",
      "T5-Paraphrase Paraphrases (Avg Length: 21.3, Avg Sim to Original: 0.974):\n",
      "  1. Countries worldwide are ramping up investments in renewable energy as a response to climate change and the need for energy security .\n",
      "  2. Countries worldwide are ramping up investments in renewable energy as a response to climate change and the need for energy security\n",
      "  3. Countries worldwide are increasing investments in renewable energy as a response to climate change and the need for energy security .\n",
      "\n",
      "BART-Paraphrase Paraphrases (Avg Length: 21.0, Avg Sim to Original: 0.976):\n",
      "  1. Countries worldwide are ramping up investment in renewable energy as a response to climate change and the need for energy security.\n",
      "  2. Countries worldwide are ramping up investments in renewable energy as a response to climate change and the need for energy security.\n",
      "  3. Countries worldwide are ramping up investment in renewable energy as an answer to climate change and the need for energy security.\n",
      "\n",
      "Average Similarity PEGASUS vs T5-Paraphrase: 0.880\n",
      "Average Similarity PEGASUS vs BART-Paraphrase: 0.854\n",
      "Average Similarity T5-Paraphrase vs BART-Paraphrase: 0.971\n"
     ]
    },
    {
     "name": "stderr",
     "output_type": "stream",
     "text": [
      "/usr/local/lib/python3.12/dist-packages/transformers/models/t5/tokenization_t5.py:287: UserWarning: This sequence already has </s>. In future versions this behavior may lead to duplicated eos tokens being added.\n",
      "  warnings.warn(\n"
     ]
    },
    {
     "name": "stdout",
     "output_type": "stream",
     "text": [
      "----------- Enhanced Paraphrasing Comparison -----------\n",
      "PEGASUS Paraphrases (Avg Length: 13.7, Avg Sim to Original: 0.816):\n",
      "  1. The fastest-growing electricity generation sources are solar photovoltaic and wind.\n",
      "  2. Solar photovoltaic and wind are among the fastest-growing electricity generation sources due to rapidly falling costs and favorable policy incentives.\n",
      "  3. The fastest-growing electricity 4 generation sources are solar photovoltaic and wind.\n",
      "\n",
      "T5-Paraphrase Paraphrases (Avg Length: 23.3, Avg Sim to Original: 0.969):\n",
      "  1. Solar photovoltaic and onshore wind are among the fastest-growing generation sources of electricity 4 due to rapidly falling costs and favorable policy incentives\n",
      "  2. Solar photovoltaic and offshore wind are among the fastest-growing generation sources of electricity 4 due to rapidly falling costs and favorable policy incentives .\n",
      "  3. Solar photovoltaic and offshore wind are among the fastest-growing generation sources of electricity 4 due to rapidly falling costs and favorable policy incentives\n",
      "\n",
      "BART-Paraphrase Paraphrases (Avg Length: 18.7, Avg Sim to Original: 0.820):\n",
      "  1. Due to rapidly falling costs and favorable policy, solar energy and onshore wind are among the fastest-growing electricity sources.\n",
      "  2. Due to rapidly falling costs and favorable policies, solar energy and onshore wind are among the fastest-growing electricity sources.\n",
      "  3. Due to rapidly falling costs and favorable policy, solar and onshore wind are among the fastest-growing electricity sources.\n",
      "\n",
      "Average Similarity PEGASUS vs T5-Paraphrase: 0.837\n",
      "Average Similarity PEGASUS vs BART-Paraphrase: 0.836\n",
      "Average Similarity T5-Paraphrase vs BART-Paraphrase: 0.825\n",
      "----------- PEGASUS on Second Text (Renewable Energy) -----------\n",
      "Summary: Batteries for Renewable Energy is a new report by the International Energy Agency (IEA) and the\n",
      "Energy Policy Institute (EPI) that examines the role of energy storage technologies in the global\n",
      "renewable energy market.\n"
     ]
    }
   ],
   "source": [
    "cleaned_text = input2\n",
    "results_pegasus_second = pipeline.process(cleaned_text, summarizer='pegasus')\n",
    "print(\"----------- PEGASUS on Second Text (Renewable Energy) -----------\")\n",
    "print(f\"Summary: {textwrap.fill(results_pegasus_second['summary'], width=100)}\")"
   ]
  },
  {
   "cell_type": "markdown",
   "metadata": {
    "id": "U28XNURyKw6n"
   },
   "source": [
    "##Comparison on Both Texts\n",
    "####Compare T5, BART, and PEGASUS on both texts."
   ]
  },
  {
   "cell_type": "code",
   "execution_count": null,
   "metadata": {
    "colab": {
     "base_uri": "https://localhost:8080/"
    },
    "id": "a_I_3VuiLBgX",
    "outputId": "af5e2cc1-7825-4148-cb4d-6ab7e0e8a5fe"
   },
   "outputs": [
    {
     "name": "stderr",
     "output_type": "stream",
     "text": [
      "/usr/local/lib/python3.12/dist-packages/huggingface_hub/utils/_auth.py:94: UserWarning: \n",
      "The secret `HF_TOKEN` does not exist in your Colab secrets.\n",
      "To authenticate with the Hugging Face Hub, create a token in your settings tab (https://huggingface.co/settings/tokens), set it as secret in your Google Colab and restart your session.\n",
      "You will be able to reuse this secret in all of your notebooks.\n",
      "Please note that authentication is recommended but still optional to access public models or datasets.\n",
      "  warnings.warn(\n",
      "You are using the default legacy behaviour of the <class 'transformers.models.t5.tokenization_t5.T5Tokenizer'>. This is expected, and simply means that the `legacy` (previous) behavior will be used so nothing changes for you. If you want to use the new behaviour, set `legacy=False`. This should only be set if you understand what it means, and thoroughly read the reason why this was added as explained in https://github.com/huggingface/transformers/pull/24565\n",
      "Some weights of PegasusForConditionalGeneration were not initialized from the model checkpoint at google/pegasus-xsum and are newly initialized: ['model.decoder.embed_positions.weight', 'model.encoder.embed_positions.weight']\n",
      "You should probably TRAIN this model on a down-stream task to be able to use it for predictions and inference.\n"
     ]
    },
    {
     "name": "stdout",
     "output_type": "stream",
     "text": [
      "----------- Enhanced Summarization Comparison on First Text -----------\n",
      "----------- Enhanced Summarization Comparison -----------\n",
      "T5 Summary (Length: 36, Sim to Original: 0.686):\n",
      "machine learning (AI) is transforming healthcare delivery, diagnosis, and research . natural\n",
      "language processing helps extract useful information from electronic health records . telemedicine\n",
      "adoption — accelerated by the COVID-19 pandemic — relies on AI .\n",
      "\n",
      "BART Summary (Length: 93, Sim to Original: 0.822):\n",
      "Recent advances in artificial intelligence (AI) are transforming healthcare delivery,delivery,\n",
      "diagnosis, and research. Machine learning models now assist clinicians andphysicians by analyzing\n",
      "medical images such as X-rays and MRIs, detecting and diagnosinganomalies often at or above human-\n",
      "level accuracy. Natural language processing (NLP)helps extract useful information from electronic\n",
      "health records (EHRs),making long patient histories searchable and enabling clinical decision-\n",
      "support.AI-driven drug discovery pipelines speed up candidate screening by predicting drugmolecular\n",
      "properties and potential toxicity, lowering time-to-discovery and reducing drugcost. Personalized\n",
      "medicine benefits from predictive models that combine clinical,genomic, lifestyle, and clinical data\n",
      "to recommend tailored\n",
      "\n",
      "PEGASUS Summary (Length: 32, Sim to Original: 0.659):\n",
      "Advances in artificial intelligence (AI) are transforming healthcare delivery, diagnosis, and\n",
      "research, but challenges remain, including data privacy and patient consent, according to new\n",
      "research from the Massachusetts Institute of Technology (MIT).\n",
      "\n",
      "Similarity T5 vs BART: 0.677\n",
      "Similarity T5 vs PEGASUS: 0.614\n",
      "Similarity BART vs PEGASUS: 0.544\n",
      "----------- Enhanced Summarization Comparison on Second Text -----------\n",
      "----------- Enhanced Summarization Comparison -----------\n",
      "T5 Summary (Length: 39, Sim to Original: 0.666):\n",
      "solar photovoltaic and onshore wind are among the fastest-growing electricity 4 generation sources .\n",
      "many governments set ambitious targets to reach net-zero emissions by mid-century . large-scale\n",
      "adoption of renewables also increases jobs in manufacturing, construction, and maintenance .\n",
      "\n",
      "BART Summary (Length: 99, Sim to Original: 0.847):\n",
      "Countries worldwide are ramping up investments in renewable energy as apre-response to climate\n",
      "change and the need for energy security. Solar,photovoltaic and onshore wind are among the fastest-\n",
      "growing electricity sources, accounting for more than $4.5 trillion in total energy consumption.\n",
      "Renewables are becoming the most attractivenext-generation sources due to rapidly falling costs and\n",
      "favorable policy and regulatoryincentives. Many governments set ambitious targets to reach net-zero\n",
      "net-emissions by mid-century, driving accelerated deployment of renewables.Energy storage\n",
      "technologies, primarily lithium-ion batteries, are criticalfor handling the variable nature of solar\n",
      "and wind power. Improved grid-basedinfrastructure, including smart grids and demand response, helps\n",
      "integrate\n",
      "\n",
      "PEGASUS Summary (Length: 34, Sim to Original: 0.663):\n",
      "Batteries for Renewable Energy is a new report by the International Energy Agency (IEA) and the\n",
      "Energy Policy Institute (EPI) that examines the role of energy storage technologies in the global\n",
      "renewable energy market.\n",
      "\n",
      "Similarity T5 vs BART: 0.720\n",
      "Similarity T5 vs PEGASUS: 0.401\n",
      "Similarity BART vs PEGASUS: 0.687\n"
     ]
    }
   ],
   "source": [
    "import textwrap\n",
    "import re\n",
    "from transformers import T5ForConditionalGeneration, T5Tokenizer\n",
    "from transformers import BartForConditionalGeneration, BartTokenizer\n",
    "from transformers import PegasusForConditionalGeneration, PegasusTokenizer\n",
    "from sentence_transformers import SentenceTransformer\n",
    "from sklearn.metrics.pairwise import cosine_similarity\n",
    "\n",
    "# Load Summarization models\n",
    "t5_tokenizer = T5Tokenizer.from_pretrained('t5-base')\n",
    "t5_model = T5ForConditionalGeneration.from_pretrained('t5-base')\n",
    "bart_tokenizer = BartTokenizer.from_pretrained('facebook/bart-base')\n",
    "bart_model = BartForConditionalGeneration.from_pretrained('facebook/bart-base')\n",
    "pegasus_sum_tokenizer = PegasusTokenizer.from_pretrained('google/pegasus-xsum')\n",
    "pegasus_sum_model = PegasusForConditionalGeneration.from_pretrained('google/pegasus-xsum')\n",
    "\n",
    "# Load Similarity Model\n",
    "similarity_model = SentenceTransformer('all-MiniLM-L6-v2')\n",
    "\n",
    "def generate_t5_summary(text, min_len=40, max_len=150, beams=4):\n",
    "    \"\"\"Abstractive summarization with T5.\"\"\"\n",
    "    input_text = \"summarize: \" + text.strip().replace(\"\\n\", \" \")\n",
    "    inputs = t5_tokenizer.encode(input_text, return_tensors='pt', max_length=1024, truncation=True)\n",
    "    summary_ids = t5_model.generate(\n",
    "        inputs,\n",
    "        max_length=max_len,\n",
    "        min_length=min_len,\n",
    "        num_beams=beams,\n",
    "        no_repeat_ngram_size=3,\n",
    "        length_penalty=2.0,\n",
    "        early_stopping=True\n",
    "    )\n",
    "    return t5_tokenizer.decode(summary_ids[0], skip_special_tokens=True)\n",
    "\n",
    "def clean_text(text):\n",
    "    \"\"\"Remove special characters and normalize whitespace.\"\"\"\n",
    "    text = re.sub(r'[^\\x00-\\x7F]+', ' ', text)  # Remove non-ASCII characters\n",
    "    text = re.sub(r'\\s+', ' ', text)  # Normalize whitespace\n",
    "    return text.strip()\n",
    "\n",
    "def generate_bart_summary(text, min_len=40, max_len=150, beams=4):\n",
    "    \"\"\"Abstractive summarization with BART.\"\"\"\n",
    "    inputs = bart_tokenizer.encode(text, return_tensors='pt', max_length=1024, truncation=True)\n",
    "    summary_ids = bart_model.generate(\n",
    "        inputs,\n",
    "        max_length=max_len,\n",
    "        min_length=min_len,\n",
    "        num_beams=beams,\n",
    "        no_repeat_ngram_size=3,\n",
    "        length_penalty=2.0,\n",
    "        early_stopping=True\n",
    "    )\n",
    "    return bart_tokenizer.decode(summary_ids[0], skip_special_tokens=True)\n",
    "\n",
    "def generate_pegasus_summary(text, min_len=40, max_len=150, beams=4):\n",
    "    \"\"\"Abstractive summarization with PEGASUS.\"\"\"\n",
    "    # Clean and truncate input to prevent tokenization issues\n",
    "    text = clean_text(text[:1500])  # Stricter truncation to 1500 chars\n",
    "    try:\n",
    "        inputs = pegasus_sum_tokenizer.encode(\n",
    "            text,\n",
    "            return_tensors='pt',\n",
    "            max_length=512,  # Reduced max_length for safety\n",
    "            truncation=True,\n",
    "            padding='max_length'  # Ensure consistent input size\n",
    "        )\n",
    "        # Validate token IDs\n",
    "        if inputs.max().item() >= pegasus_sum_tokenizer.vocab_size:\n",
    "            raise ValueError(f\"Token ID {inputs.max().item()} exceeds vocab size {pegasus_sum_tokenizer.vocab_size}.\")\n",
    "        summary_ids = pegasus_sum_model.generate(\n",
    "            inputs,\n",
    "            max_length=max_len,\n",
    "            min_length=min_len,\n",
    "            num_beams=beams,\n",
    "            no_repeat_ngram_size=3,\n",
    "            length_penalty=2.0,\n",
    "            early_stopping=True\n",
    "        )\n",
    "        return pegasus_sum_tokenizer.decode(summary_ids[0], skip_special_tokens=True)\n",
    "    except Exception as e:\n",
    "        print(f\"PEGASUS summarization failed: {e}\")\n",
    "        return \"Summary unavailable due to processing error.\"\n",
    "\n",
    "def compute_similarity(text1, text2):\n",
    "    \"\"\"Compute cosine similarity between texts.\"\"\"\n",
    "    embeddings = similarity_model.encode([text1, text2])\n",
    "    return cosine_similarity([embeddings[0]], [embeddings[1]])[0][0]\n",
    "\n",
    "def analyze_summary_length(summary):\n",
    "    \"\"\"Compute word count of summary.\"\"\"\n",
    "    return len(summary.split())  # Simple split instead of NLTK tokenization\n",
    "\n",
    "def similarity_to_original(summary, original_text):\n",
    "    \"\"\"Compute similarity between summary and original.\"\"\"\n",
    "    return compute_similarity(summary, original_text[:2000])\n",
    "\n",
    "input1 = '''\n",
    "Recent advances in artificial intelligence (AI) are transforming healthcare\n",
    "delivery, diagnosis, and research. Machine learning models now assist\n",
    "physicians by analyzing medical images such as X-rays and MRIs, detecting\n",
    "anomalies often at or above human-level accuracy. Natural language processing\n",
    "helps extract useful information from electronic health records (EHRs),\n",
    "making long patient histories searchable and enabling clinical decision\n",
    "support.\n",
    "AI-driven drug discovery pipelines speed up candidate screening by predicting\n",
    "molecular properties and potential toxicity, lowering time-to-discovery and\n",
    "cost. Personalized medicine benefits from predictive models that combine\n",
    "genomic, lifestyle, and clinical data to recommend tailored therapies.\n",
    "Telemedicine adoption — accelerated by the COVID-19 pandemic — relies on AI\n",
    "for remote monitoring and triage.\n",
    "However, challenges remain. Data privacy and patient consent are critical\n",
    "when using sensitive health records. Models trained on limited or biased\n",
    "datasets may perform poorly for underrepresented populations, exacerbating\n",
    "health disparities. Explainability is another concern: clinicians need\n",
    "interpretable model outputs to trust recommendations. Regulatory frameworks\n",
    "and robust validation are required before clinical deployment.\n",
    "As research continues, interdisciplinary collaboration among clinicians, data\n",
    "scientists, regulators, and ethicists will be essential to ensure AI tools\n",
    "are safe, effective, and equitable. Investment in infrastructure, proper data\n",
    "governance, and transparent evaluation will help integrate AI responsibly\n",
    "within healthcare systems.\n",
    "'''\n",
    "input2 = '''\n",
    "Countries worldwide are ramping up investments in renewable energy as a\n",
    "response to climate change and the need for energy security. Solar\n",
    "photovoltaic and onshore wind are among the fastest-growing electricity\n",
    "4\n",
    "generation sources due to rapidly falling costs and favorable policy\n",
    "incentives. Many governments set ambitious targets to reach net-zero\n",
    "emissions by mid-century, driving accelerated deployment of renewables.\n",
    "Energy storage technologies, primarily lithium-ion batteries, are critical\n",
    "for handling the variable nature of solar and wind power. Improved grid\n",
    "infrastructure, including smart grids and demand response, helps integrate\n",
    "intermittency while maintaining reliability. Large-scale adoption of\n",
    "renewables also increases jobs in manufacturing, construction, and\n",
    "maintenance, providing economic co-benefits.\n",
    "Despite progress, challenges persist: grid modernization requires substantial\n",
    "capital, and mineral supply chains for batteries must be developed\n",
    "sustainably. Some regions face land-use constraints and community opposition\n",
    "to certain renewable projects. Policy stability and long-term planning are\n",
    "necessary to attract private investment.\n",
    "Continued innovation — whether in next-generation batteries, green hydrogen,\n",
    "or more efficient solar cells — will further lower costs and expand usecases. Combining renewables with energy efficiency measures and\n",
    "electrification of sectors like transport and heating is essential for deep\n",
    "decarbonization.\n",
    "'''\n",
    "def compare_summarizers_enhanced(text, min_len=40, max_len=150, beams=4):\n",
    "    \"\"\"Enhanced comparison of T5, BART, and PEGASUS for summarization.\"\"\"\n",
    "    t5_sum = generate_t5_summary(text[:2000], min_len, max_len, beams)\n",
    "    bart_sum = generate_bart_summary(text[:2000], min_len, max_len, beams)\n",
    "    pegasus_sum = generate_pegasus_summary(text[:2000], min_len, max_len, beams)\n",
    "\n",
    "    metrics = {\n",
    "        't5': {\n",
    "            'summary': t5_sum,\n",
    "            'length': analyze_summary_length(t5_sum),\n",
    "            'sim_to_original': similarity_to_original(t5_sum, text)\n",
    "        },\n",
    "        'bart': {\n",
    "            'summary': bart_sum,\n",
    "            'length': analyze_summary_length(bart_sum),\n",
    "            'sim_to_original': similarity_to_original(bart_sum, text)\n",
    "        },\n",
    "        'pegasus': {\n",
    "            'summary': pegasus_sum,\n",
    "            'length': analyze_summary_length(pegasus_sum),\n",
    "            'sim_to_original': similarity_to_original(pegasus_sum, text)\n",
    "        },\n",
    "        'sim_t5_bart': compute_similarity(t5_sum, bart_sum),\n",
    "        'sim_t5_pegasus': compute_similarity(t5_sum, pegasus_sum),\n",
    "        'sim_bart_pegasus': compute_similarity(bart_sum, pegasus_sum)\n",
    "    }\n",
    "\n",
    "    print(\"----------- Enhanced Summarization Comparison -----------\")\n",
    "    print(f\"T5 Summary (Length: {metrics['t5']['length']}, Sim to Original: {metrics['t5']['sim_to_original']:.3f}):\")\n",
    "    print(textwrap.fill(t5_sum, width=100))\n",
    "    print(f\"\\nBART Summary (Length: {metrics['bart']['length']}, Sim to Original: {metrics['bart']['sim_to_original']:.3f}):\")\n",
    "    print(textwrap.fill(bart_sum, width=100))\n",
    "    print(f\"\\nPEGASUS Summary (Length: {metrics['pegasus']['length']}, Sim to Original: {metrics['pegasus']['sim_to_original']:.3f}):\")\n",
    "    print(textwrap.fill(pegasus_sum, width=100))\n",
    "    print(f\"\\nSimilarity T5 vs BART: {metrics['sim_t5_bart']:.3f}\")\n",
    "    print(f\"Similarity T5 vs PEGASUS: {metrics['sim_t5_pegasus']:.3f}\")\n",
    "    print(f\"Similarity BART vs PEGASUS: {metrics['sim_bart_pegasus']:.3f}\")\n",
    "\n",
    "    return metrics\n",
    "\n",
    "print(\"----------- Enhanced Summarization Comparison on First Text -----------\")\n",
    "cleaned_text = input1\n",
    "comparison_first = compare_summarizers_enhanced(cleaned_text)\n",
    "print(\"----------- Enhanced Summarization Comparison on Second Text -----------\")\n",
    "cleaned_text = input2\n",
    "comparison_second = compare_summarizers_enhanced(cleaned_text)"
   ]
  },
  {
   "cell_type": "markdown",
   "metadata": {
    "id": "pVkm1TN6OK4W"
   },
   "source": []
  },
  {
   "cell_type": "markdown",
   "metadata": {
    "id": "76X5XxrdlpU2"
   },
   "source": [
    "#Visualization & Insights\n",
    "###Enhanced Summarization Metrics Plot\n",
    "Visualize T5 vs BART vs PEGASUS metrics."
   ]
  },
  {
   "cell_type": "code",
   "execution_count": null,
   "metadata": {
    "colab": {
     "base_uri": "https://localhost:8080/",
     "height": 1000
    },
    "id": "4H20RR8mOi9b",
    "outputId": "e74b5da8-2a54-4344-bef5-4dd903d97f17"
   },
   "outputs": [
    {
     "data": {
      "image/png": "[encoded data removed]",
      "text/plain": [
       "<Figure size 1000x500 with 2 Axes>"
      ]
     },
     "metadata": {},
     "output_type": "display_data"
    },
    {
     "data": {
      "image/png": "[encoded data removed]",
      "text/plain": [
       "<Figure size 1000x500 with 2 Axes>"
      ]
     },
     "metadata": {},
     "output_type": "display_data"
    }
   ],
   "source": [
    "import matplotlib.pyplot as plt\n",
    "\n",
    "def plot_enhanced_summarization_comparison(metrics, title=\"Summarization Comparison\"):\n",
    "    \"\"\"Plot enhanced metrics for summarization models.\"\"\"\n",
    "    fig, (ax1, ax2) = plt.subplots(1, 2, figsize=(10, 5))\n",
    "\n",
    "    # Length\n",
    "    ax1.bar(['T5', 'BART', 'PEGASUS'],\n",
    "            [metrics['t5']['length'], metrics['bart']['length'], metrics['pegasus']['length']],\n",
    "            color='gold')\n",
    "    ax1.set_title('Summary Length')\n",
    "\n",
    "    # Similarity to Original\n",
    "    ax2.bar(['T5', 'BART', 'PEGASUS'],\n",
    "            [metrics['t5']['sim_to_original'],\n",
    "             metrics['bart']['sim_to_original'],\n",
    "             metrics['pegasus']['sim_to_original']],\n",
    "            color='lightcoral')\n",
    "    ax2.set_title('Similarity to Original')\n",
    "\n",
    "    plt.suptitle(title, fontsize=14)\n",
    "    plt.tight_layout(rect=[0, 0, 1, 0.95])\n",
    "    plt.show()\n",
    "\n",
    "plot_enhanced_summarization_comparison(comparison_first, title=\"Summarization Comparison (Frankenstein)\")\n",
    "plot_enhanced_summarization_comparison(comparison_second, title=\"Summarization Comparison (Pride and Prejudice)\")"
   ]
  },
  {
   "cell_type": "markdown",
   "metadata": {
    "id": "T_wagaadO3fs"
   },
   "source": [
    "##Enhanced Paraphrasing Metrics Plot\n",
    "####Visualize PEGASUS vs T5-Paraphrase vs BART-Paraphrase metrics."
   ]
  },
  {
   "cell_type": "code",
   "execution_count": null,
   "metadata": {
    "colab": {
     "base_uri": "https://localhost:8080/",
     "height": 931
    },
    "id": "4PYfk_5IRn5V",
    "outputId": "1fa3cd99-3315-4566-83f3-a2df597df991"
   },
   "outputs": [
    {
     "name": "stderr",
     "output_type": "stream",
     "text": [
      "Some weights of PegasusForConditionalGeneration were not initialized from the model checkpoint at tuner007/pegasus_paraphrase and are newly initialized: ['model.decoder.embed_positions.weight', 'model.encoder.embed_positions.weight']\n",
      "You should probably TRAIN this model on a down-stream task to be able to use it for predictions and inference.\n",
      "/usr/local/lib/python3.12/dist-packages/transformers/models/t5/tokenization_t5.py:287: UserWarning: This sequence already has </s>. In future versions this behavior may lead to duplicated eos tokens being added.\n",
      "  warnings.warn(\n"
     ]
    },
    {
     "name": "stdout",
     "output_type": "stream",
     "text": [
      "----------- Enhanced Paraphrasing Comparison -----------\n",
      "PEGASUS Paraphrases (Avg Length: 9.0, Avg Sim to Original: 0.917):\n",
      "  1. Artificial intelligence is transforming healthcare delivery, diagnosis, and research.\n",
      "  2. Artificial intelligence is transforming healthcare delivery, diagnosis and research.\n",
      "  3. Artificial intelligence is changing healthcare delivery, diagnosis, and research.\n",
      "\n",
      "T5-Paraphrase Paraphrases (Avg Length: 12.3, Avg Sim to Original: 0.981):\n",
      "  1. Recent advances in artificial intelligence (AI) are transforming healthcare delivery, diagnosis and research\n",
      "  2. Recent advances in artificial intelligence (AI) transform healthcare delivery, diagnosis and research\n",
      "  3. Recent advances in artificial intelligence (AI) transforming healthcare delivery, diagnosis and research\n",
      "\n",
      "BART-Paraphrase Paraphrases (Avg Length: 12.7, Avg Sim to Original: 0.984):\n",
      "  1. Recent advances in artificial intelligence (AI) are transforming healthcare delivery, diagnosis and research.\n",
      "  2. Recent advances in artificial intelligence (AI) are transforming healthcaredelivery, diagnosis and research.\n",
      "  3. Recent advances in artificial intelligence (AI) are transforming healthcare delivery, diagnosis, and research.\n",
      "\n",
      "Average Similarity PEGASUS vs T5-Paraphrase: 0.902\n",
      "Average Similarity PEGASUS vs BART-Paraphrase: 0.912\n",
      "Average Similarity T5-Paraphrase vs BART-Paraphrase: 0.964\n"
     ]
    },
    {
     "data": {
      "image/png": "[encoded data removed]",
      "text/plain": [
       "<Figure size 1000x500 with 2 Axes>"
      ]
     },
     "metadata": {},
     "output_type": "display_data"
    }
   ],
   "source": [
    "import matplotlib.pyplot as plt\n",
    "import re\n",
    "from transformers import T5ForConditionalGeneration, T5Tokenizer\n",
    "from transformers import BartForConditionalGeneration, BartTokenizer\n",
    "from transformers import PegasusForConditionalGeneration, PegasusTokenizer\n",
    "from sentence_transformers import SentenceTransformer\n",
    "from sklearn.metrics.pairwise import cosine_similarity\n",
    "\n",
    "# Define input1\n",
    "input1 = '''\n",
    "Recent advances in artificial intelligence (AI) are transforming healthcare\n",
    "delivery, diagnosis, and research. Machine learning models now assist\n",
    "physicians by analyzing medical images such as X-rays and MRIs, detecting\n",
    "anomalies often at or above human-level accuracy. Natural language processing\n",
    "helps extract useful information from electronic health records (EHRs),\n",
    "making long patient histories searchable and enabling clinical decision\n",
    "support.\n",
    "AI-driven drug discovery pipelines speed up candidate screening by predicting\n",
    "molecular properties and potential toxicity, lowering time-to-discovery and\n",
    "cost. Personalized medicine benefits from predictive models that combine\n",
    "genomic, lifestyle, and clinical data to recommend tailored therapies.\n",
    "Telemedicine adoption — accelerated by the COVID-19 pandemic — relies on AI\n",
    "for remote monitoring and triage.\n",
    "However, challenges remain. Data privacy and patient consent are critical\n",
    "when using sensitive health records. Models trained on limited or biased\n",
    "datasets may perform poorly for underrepresented populations, exacerbating\n",
    "health disparities. Explainability is another concern: clinicians need\n",
    "interpretable model outputs to trust recommendations. Regulatory frameworks\n",
    "and robust validation are required before clinical deployment.\n",
    "As research continues, interdisciplinary collaboration among clinicians, data\n",
    "scientists, regulators, and ethicists will be essential to ensure AI tools\n",
    "are safe, effective, and equitable. Investment in infrastructure, proper data\n",
    "governance, and transparent evaluation will help integrate AI responsibly\n",
    "within healthcare systems.\n",
    "'''\n",
    "\n",
    "# Load Paraphrasing Models\n",
    "pegasus_para_tokenizer = PegasusTokenizer.from_pretrained('tuner007/pegasus_paraphrase')\n",
    "pegasus_para_model = PegasusForConditionalGeneration.from_pretrained('tuner007/pegasus_paraphrase')\n",
    "paraphrase_t5_tokenizer = T5Tokenizer.from_pretrained('Vamsi/T5_Paraphrase_Paws')\n",
    "paraphrase_t5_model = T5ForConditionalGeneration.from_pretrained('Vamsi/T5_Paraphrase_Paws')\n",
    "paraphrase_bart_tokenizer = BartTokenizer.from_pretrained('eugenesiow/bart-paraphrase')\n",
    "paraphrase_bart_model = BartForConditionalGeneration.from_pretrained('eugenesiow/bart-paraphrase')\n",
    "\n",
    "# Load Similarity Model\n",
    "similarity_model = SentenceTransformer('all-MiniLM-L6-v2')\n",
    "\n",
    "\n",
    "def generate_pegasus_paraphrase(text, num_return=3, beams=10):\n",
    "    \"\"\"Generate paraphrases with PEGASUS.\"\"\"\n",
    "    inputs = pegasus_para_tokenizer.encode(text, return_tensors='pt', truncation=True, max_length=60)\n",
    "    paraphrase_ids = pegasus_para_model.generate(\n",
    "        inputs,\n",
    "        max_length=60,\n",
    "        num_beams=beams,\n",
    "        num_return_sequences=num_return,\n",
    "        early_stopping=True\n",
    "    )\n",
    "    return pegasus_para_tokenizer.batch_decode(paraphrase_ids, skip_special_tokens=True)\n",
    "\n",
    "def generate_t5_paraphrase(text, num_return=3, beams=10):\n",
    "    \"\"\"Generate paraphrases with T5-Paraphrase.\"\"\"\n",
    "    input_text = f\"paraphrase: {text} </s>\"\n",
    "    inputs = paraphrase_t5_tokenizer.encode(input_text, return_tensors='pt', max_length=512, truncation=True)\n",
    "    paraphrase_ids = paraphrase_t5_model.generate(\n",
    "        inputs,\n",
    "        max_length=60,\n",
    "        num_beams=beams,\n",
    "        num_return_sequences=num_return,\n",
    "        early_stopping=True\n",
    "    )\n",
    "    return paraphrase_t5_tokenizer.batch_decode(paraphrase_ids, skip_special_tokens=True)\n",
    "\n",
    "def generate_bart_paraphrase(text, num_return=3, beams=10):\n",
    "    \"\"\"Generate paraphrases with BART-Paraphrase.\"\"\"\n",
    "    inputs = paraphrase_bart_tokenizer.encode(text, return_tensors='pt', truncation=True, max_length=60)\n",
    "    paraphrase_ids = paraphrase_bart_model.generate(\n",
    "        inputs,\n",
    "        max_length=60,\n",
    "        num_beams=beams,\n",
    "        num_return_sequences=num_return,\n",
    "        early_stopping=True\n",
    "    )\n",
    "    return paraphrase_bart_tokenizer.batch_decode(paraphrase_ids, skip_special_tokens=True)\n",
    "\n",
    "def compute_similarity(text1, text2):\n",
    "    \"\"\"Compute cosine similarity between texts.\"\"\"\n",
    "    embeddings = similarity_model.encode([text1, text2])\n",
    "    return cosine_similarity([embeddings[0]], [embeddings[1]])[0][0]\n",
    "\n",
    "\n",
    "def compare_paraphrasers_enhanced(text, num_return=3, beams=10):\n",
    "    \"\"\"Enhanced comparison of PEGASUS, T5-Paraphrase, and BART-Paraphrase.\"\"\"\n",
    "    peg_paras = generate_pegasus_paraphrase(text, num_return, beams)\n",
    "    t5_paras = generate_t5_paraphrase(text, num_return, beams)\n",
    "    bart_paras = generate_bart_paraphrase(text, num_return, beams)\n",
    "\n",
    "    metrics = {\n",
    "        'pegasus': {\n",
    "            'paraphrases': peg_paras,\n",
    "            'avg_length': sum(len(p.split()) for p in peg_paras) / len(peg_paras),\n",
    "            'avg_sim_to_original': sum(compute_similarity(p, text) for p in peg_paras) / len(peg_paras)\n",
    "        },\n",
    "        't5_paraphrase': {\n",
    "            'paraphrases': t5_paras,\n",
    "            'avg_length': sum(len(p.split()) for p in t5_paras) / len(t5_paras),\n",
    "            'avg_sim_to_original': sum(compute_similarity(p, text) for p in t5_paras) / len(t5_paras)\n",
    "        },\n",
    "        'bart_paraphrase': {\n",
    "            'paraphrases': bart_paras,\n",
    "            'avg_length': sum(len(p.split()) for p in bart_paras) / len(bart_paras),\n",
    "            'avg_sim_to_original': sum(compute_similarity(p, text) for p in bart_paras) / len(bart_paras)\n",
    "        },\n",
    "        'avg_sim_peg_t5': sum(compute_similarity(peg_paras[i], t5_paras[i]) for i in range(num_return)) / num_return,\n",
    "        'avg_sim_peg_bart': sum(compute_similarity(peg_paras[i], bart_paras[i]) for i in range(num_return)) / num_return,\n",
    "        'avg_sim_t5_bart': sum(compute_similarity(t5_paras[i], bart_paras[i]) for i in range(num_return)) / num_return\n",
    "    }\n",
    "\n",
    "    print(\"----------- Enhanced Paraphrasing Comparison -----------\")\n",
    "    print(f\"PEGASUS Paraphrases (Avg Length: {metrics['pegasus']['avg_length']:.1f}, Avg Sim to Original: {metrics['pegasus']['avg_sim_to_original']:.3f}):\")\n",
    "    for i, p in enumerate(peg_paras, 1):\n",
    "        print(f\"  {i}. {p}\")\n",
    "    print(f\"\\nT5-Paraphrase Paraphrases (Avg Length: {metrics['t5_paraphrase']['avg_length']:.1f}, Avg Sim to Original: {metrics['t5_paraphrase']['avg_sim_to_original']:.3f}):\")\n",
    "    for i, p in enumerate(t5_paras, 1):\n",
    "        print(f\"  {i}. {p}\")\n",
    "    print(f\"\\nBART-Paraphrase Paraphrases (Avg Length: {metrics['bart_paraphrase']['avg_length']:.1f}, Avg Sim to Original: {metrics['bart_paraphrase']['avg_sim_to_original']:.3f}):\")\n",
    "    for i, p in enumerate(bart_paras, 1):\n",
    "        print(f\"  {i}. {p}\")\n",
    "    print(f\"\\nAverage Similarity PEGASUS vs T5-Paraphrase: {metrics['avg_sim_peg_t5']:.3f}\")\n",
    "    print(f\"Average Similarity PEGASUS vs BART-Paraphrase: {metrics['avg_sim_peg_bart']:.3f}\")\n",
    "    print(f\"Average Similarity T5-Paraphrase vs BART-Paraphrase: {metrics['avg_sim_t5_bart']:.3f}\")\n",
    "\n",
    "    return metrics\n",
    "\n",
    "def plot_enhanced_paraphrasing_comparison(metrics, title=\"Paraphrasing Comparison\"):\n",
    "    \"\"\"Plot enhanced metrics for paraphrasing models.\"\"\"\n",
    "    fig, (ax1, ax2) = plt.subplots(1, 2, figsize=(10, 5))\n",
    "\n",
    "    # Average Length\n",
    "    ax1.bar(['PEGASUS', 'T5-Paraphrase', 'BART-Paraphrase'],\n",
    "            [metrics['pegasus']['avg_length'],\n",
    "             metrics['t5_paraphrase']['avg_length'],\n",
    "             metrics['bart_paraphrase']['avg_length']],\n",
    "            color='gold')\n",
    "    ax1.set_title('Average Paraphrase Length')\n",
    "\n",
    "    # Average Similarity to Original\n",
    "    ax2.bar(['PEGASUS', 'T5-Paraphrase', 'BART-Paraphrase'],\n",
    "            [metrics['pegasus']['avg_sim_to_original'],\n",
    "             metrics['t5_paraphrase']['avg_sim_to_original'],\n",
    "             metrics['bart_paraphrase']['avg_sim_to_original']],\n",
    "            color='lightcoral')\n",
    "    ax2.set_title('Average Similarity to Original')\n",
    "\n",
    "    plt.suptitle(title, fontsize=14)\n",
    "    plt.tight_layout(rect=[0, 0, 1, 0.95])\n",
    "    plt.show()\n",
    "\n",
    "# Plot paraphrasing comparison for first sentence of first text\n",
    "first_sentence = re.split(r'[.!?]+', input1)[0].strip()\n",
    "plot_enhanced_paraphrasing_comparison(compare_paraphrasers_enhanced(first_sentence),\n",
    "                                     title=\"Paraphrasing Comparison (Artificial Intelligence)\")"
   ]
  },
  {
   "cell_type": "markdown",
   "metadata": {
    "id": "jfPhwWNsUD9I"
   },
   "source": [
    "##Bigram Analysis\n",
    "####Add bigram analysis using simple string splitting."
   ]
  },
  {
   "cell_type": "code",
   "execution_count": null,
   "metadata": {
    "colab": {
     "base_uri": "https://localhost:8080/"
    },
    "id": "wEE9J24iUHkX",
    "outputId": "cefeef71-a139-42af-f266-1d5bfa9404e0"
   },
   "outputs": [
    {
     "name": "stdout",
     "output_type": "stream",
     "text": [
      "\n",
      "Bigram Analysis\n",
      "\n",
      "Input 1 (Artificial Intelligence):\n",
      "Top Bigrams: [('Recent advances', 1), ('advances in', 1), ('in artificial', 1), ('artificial intelligence', 1), ('intelligence (AI)', 1)]\n",
      "\n",
      "Input 2 (Renewable Energy):\n",
      "Top Bigrams: [('costs and', 2), ('Countries worldwide', 1), ('worldwide are', 1), ('are ramping', 1), ('ramping up', 1)]\n"
     ]
    }
   ],
   "source": [
    "from collections import Counter\n",
    "import re\n",
    "\n",
    "def clean_text(text):\n",
    "    \"\"\"Remove special characters and normalize whitespace.\"\"\"\n",
    "    text = re.sub(r'[^\\x00-\\x7F]+', ' ', text)  # Remove non-ASCII characters\n",
    "    text = re.sub(r'\\s+', ' ', text)  # Normalize whitespace\n",
    "    return text.strip()\n",
    "\n",
    "def analyze_bigrams(text):\n",
    "    \"\"\"Compute top bigrams using string splitting.\"\"\"\n",
    "    text = clean_text(text[:2000])  # Clean and limit for performance\n",
    "    words = text.split()\n",
    "    bigrams = [(words[i], words[i+1]) for i in range(len(words)-1)]\n",
    "    bigram_freq = Counter(bigrams).most_common(5)\n",
    "    return [(f\"{w1} {w2}\", count) for (w1, w2), count in bigram_freq]\n",
    "\n",
    "print(\"\\nBigram Analysis\")\n",
    "# Assuming input1 and input2 are defined in a previous cell\n",
    "input_texts = {\n",
    "    'Input 1 (Artificial Intelligence)': input1,\n",
    "    'Input 2 (Renewable Energy)': input2\n",
    "}\n",
    "\n",
    "for key, text_content in input_texts.items():\n",
    "    print(f\"\\n{key}:\")\n",
    "    bigrams = analyze_bigrams(text_content)\n",
    "    print(f\"Top Bigrams: {bigrams}\")"
   ]
  },
  {
   "cell_type": "markdown",
   "metadata": {
    "id": "dL6mufgjUfnb"
   },
   "source": [
    "##Bigram Visualization\n",
    "####Visualize bigram frequencies."
   ]
  },
  {
   "cell_type": "code",
   "execution_count": null,
   "metadata": {
    "colab": {
     "base_uri": "https://localhost:8080/",
     "height": 797
    },
    "id": "XBcKUSKJUjlE",
    "outputId": "6d4a66bc-de3c-467e-deed-0d6c69c5c37a"
   },
   "outputs": [
    {
     "data": {
      "image/png": "[encoded data removed]",
      "text/plain": [
       "<Figure size 800x400 with 1 Axes>"
      ]
     },
     "metadata": {},
     "output_type": "display_data"
    },
    {
     "data": {
      "image/png": "[encoded data removed]",
      "text/plain": [
       "<Figure size 800x400 with 1 Axes>"
      ]
     },
     "metadata": {},
     "output_type": "display_data"
    }
   ],
   "source": [
    "import matplotlib.pyplot as plt\n",
    "import re\n",
    "from collections import Counter\n",
    "\n",
    "def clean_text(text):\n",
    "    \"\"\"Remove special characters and normalize whitespace.\"\"\"\n",
    "    text = re.sub(r'[^\\x00-\\x7F]+', ' ', text)  # Remove non-ASCII characters\n",
    "    text = re.sub(r'\\s+', ' ', text)  # Normalize whitespace\n",
    "    return text.strip()\n",
    "\n",
    "def analyze_bigrams(text):\n",
    "    \"\"\"Compute top bigrams using string splitting.\"\"\"\n",
    "    text = clean_text(text[:2000])  # Clean and limit for performance\n",
    "    words = text.split()\n",
    "    bigrams = [(words[i], words[i+1]) for i in range(len(words)-1)]\n",
    "    bigram_freq = Counter(bigrams).most_common(5)\n",
    "    return [(f\"{w1} {w2}\", count) for (w1, w2), count in bigram_freq]\n",
    "\n",
    "def plot_bigrams(bigrams, title=\"Top Bigrams\"):\n",
    "    \"\"\"Plot top bigrams.\"\"\"\n",
    "    if bigrams:\n",
    "        labels, counts = zip(*bigrams)\n",
    "        plt.figure(figsize=(8, 4))\n",
    "        plt.bar(labels, counts, color='teal')\n",
    "        plt.title(title, fontsize=12)\n",
    "        plt.xticks(rotation=45)\n",
    "        plt.tight_layout()\n",
    "        plt.show()\n",
    "\n",
    "# Assuming input1 and input2 are defined in a previous cell\n",
    "input_texts = {\n",
    "    'Input 1 (Artificial Intelligence)': input1,\n",
    "    'Input 2 (Renewable Energy)': input2\n",
    "}\n",
    "\n",
    "\n",
    "for key, text_content in input_texts.items():\n",
    "    bigrams = analyze_bigrams(text_content)\n",
    "    plot_bigrams(bigrams, title=f\"Top Bigrams ({key})\")"
   ]
  }
 ],
 "metadata": {
  "colab": {
   "provenance": []
  },
  "kernelspec": {
   "display_name": "Python 3",
   "name": "python3"
  },
  "language_info": {
   "name": "python"
  }
 },
 "nbformat": 4,
 "nbformat_minor": 0
}
